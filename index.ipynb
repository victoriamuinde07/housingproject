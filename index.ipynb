{
 "cells": [
  {
   "cell_type": "code",
   "execution_count": 163,
   "metadata": {},
   "outputs": [],
   "source": [
    "import pandas as pd\n",
    "import numpy as np\n",
    "import matplotlib.pyplot as plt\n",
    "import seaborn as sns\n",
    "from sklearn.model_selection import train_test_split\n",
    "from sklearn.preprocessing import StandardScaler \n",
    "from sklearn.metrics import mean_absolute_error,mean_squared_error,r2_score\n",
    "from sklearn.linear_model import LinearRegression"
   ]
  },
  {
   "cell_type": "code",
   "execution_count": 164,
   "metadata": {},
   "outputs": [
    {
     "data": {
      "text/html": [
       "<div>\n",
       "<style scoped>\n",
       "    .dataframe tbody tr th:only-of-type {\n",
       "        vertical-align: middle;\n",
       "    }\n",
       "\n",
       "    .dataframe tbody tr th {\n",
       "        vertical-align: top;\n",
       "    }\n",
       "\n",
       "    .dataframe thead th {\n",
       "        text-align: right;\n",
       "    }\n",
       "</style>\n",
       "<table border=\"1\" class=\"dataframe\">\n",
       "  <thead>\n",
       "    <tr style=\"text-align: right;\">\n",
       "      <th></th>\n",
       "      <th>id</th>\n",
       "      <th>date</th>\n",
       "      <th>price</th>\n",
       "      <th>bedrooms</th>\n",
       "      <th>bathrooms</th>\n",
       "      <th>sqft_living</th>\n",
       "      <th>sqft_lot</th>\n",
       "      <th>floors</th>\n",
       "      <th>waterfront</th>\n",
       "      <th>view</th>\n",
       "      <th>...</th>\n",
       "      <th>grade</th>\n",
       "      <th>sqft_above</th>\n",
       "      <th>sqft_basement</th>\n",
       "      <th>yr_built</th>\n",
       "      <th>yr_renovated</th>\n",
       "      <th>zipcode</th>\n",
       "      <th>lat</th>\n",
       "      <th>long</th>\n",
       "      <th>sqft_living15</th>\n",
       "      <th>sqft_lot15</th>\n",
       "    </tr>\n",
       "  </thead>\n",
       "  <tbody>\n",
       "    <tr>\n",
       "      <th>0</th>\n",
       "      <td>7129300520</td>\n",
       "      <td>10/13/2014</td>\n",
       "      <td>221900.0</td>\n",
       "      <td>3</td>\n",
       "      <td>1.00</td>\n",
       "      <td>1180</td>\n",
       "      <td>5650</td>\n",
       "      <td>1.0</td>\n",
       "      <td>NaN</td>\n",
       "      <td>0.0</td>\n",
       "      <td>...</td>\n",
       "      <td>7</td>\n",
       "      <td>1180</td>\n",
       "      <td>0.0</td>\n",
       "      <td>1955</td>\n",
       "      <td>0.0</td>\n",
       "      <td>98178</td>\n",
       "      <td>47.5112</td>\n",
       "      <td>-122.257</td>\n",
       "      <td>1340</td>\n",
       "      <td>5650</td>\n",
       "    </tr>\n",
       "    <tr>\n",
       "      <th>1</th>\n",
       "      <td>6414100192</td>\n",
       "      <td>12/9/2014</td>\n",
       "      <td>538000.0</td>\n",
       "      <td>3</td>\n",
       "      <td>2.25</td>\n",
       "      <td>2570</td>\n",
       "      <td>7242</td>\n",
       "      <td>2.0</td>\n",
       "      <td>0.0</td>\n",
       "      <td>0.0</td>\n",
       "      <td>...</td>\n",
       "      <td>7</td>\n",
       "      <td>2170</td>\n",
       "      <td>400.0</td>\n",
       "      <td>1951</td>\n",
       "      <td>1991.0</td>\n",
       "      <td>98125</td>\n",
       "      <td>47.7210</td>\n",
       "      <td>-122.319</td>\n",
       "      <td>1690</td>\n",
       "      <td>7639</td>\n",
       "    </tr>\n",
       "    <tr>\n",
       "      <th>2</th>\n",
       "      <td>5631500400</td>\n",
       "      <td>2/25/2015</td>\n",
       "      <td>180000.0</td>\n",
       "      <td>2</td>\n",
       "      <td>1.00</td>\n",
       "      <td>770</td>\n",
       "      <td>10000</td>\n",
       "      <td>1.0</td>\n",
       "      <td>0.0</td>\n",
       "      <td>0.0</td>\n",
       "      <td>...</td>\n",
       "      <td>6</td>\n",
       "      <td>770</td>\n",
       "      <td>0.0</td>\n",
       "      <td>1933</td>\n",
       "      <td>NaN</td>\n",
       "      <td>98028</td>\n",
       "      <td>47.7379</td>\n",
       "      <td>-122.233</td>\n",
       "      <td>2720</td>\n",
       "      <td>8062</td>\n",
       "    </tr>\n",
       "    <tr>\n",
       "      <th>3</th>\n",
       "      <td>2487200875</td>\n",
       "      <td>12/9/2014</td>\n",
       "      <td>604000.0</td>\n",
       "      <td>4</td>\n",
       "      <td>3.00</td>\n",
       "      <td>1960</td>\n",
       "      <td>5000</td>\n",
       "      <td>1.0</td>\n",
       "      <td>0.0</td>\n",
       "      <td>0.0</td>\n",
       "      <td>...</td>\n",
       "      <td>7</td>\n",
       "      <td>1050</td>\n",
       "      <td>910.0</td>\n",
       "      <td>1965</td>\n",
       "      <td>0.0</td>\n",
       "      <td>98136</td>\n",
       "      <td>47.5208</td>\n",
       "      <td>-122.393</td>\n",
       "      <td>1360</td>\n",
       "      <td>5000</td>\n",
       "    </tr>\n",
       "    <tr>\n",
       "      <th>4</th>\n",
       "      <td>1954400510</td>\n",
       "      <td>2/18/2015</td>\n",
       "      <td>510000.0</td>\n",
       "      <td>3</td>\n",
       "      <td>2.00</td>\n",
       "      <td>1680</td>\n",
       "      <td>8080</td>\n",
       "      <td>1.0</td>\n",
       "      <td>0.0</td>\n",
       "      <td>0.0</td>\n",
       "      <td>...</td>\n",
       "      <td>8</td>\n",
       "      <td>1680</td>\n",
       "      <td>0.0</td>\n",
       "      <td>1987</td>\n",
       "      <td>0.0</td>\n",
       "      <td>98074</td>\n",
       "      <td>47.6168</td>\n",
       "      <td>-122.045</td>\n",
       "      <td>1800</td>\n",
       "      <td>7503</td>\n",
       "    </tr>\n",
       "  </tbody>\n",
       "</table>\n",
       "<p>5 rows × 21 columns</p>\n",
       "</div>"
      ],
      "text/plain": [
       "           id        date     price  bedrooms  bathrooms  sqft_living  \\\n",
       "0  7129300520  10/13/2014  221900.0         3       1.00         1180   \n",
       "1  6414100192   12/9/2014  538000.0         3       2.25         2570   \n",
       "2  5631500400   2/25/2015  180000.0         2       1.00          770   \n",
       "3  2487200875   12/9/2014  604000.0         4       3.00         1960   \n",
       "4  1954400510   2/18/2015  510000.0         3       2.00         1680   \n",
       "\n",
       "   sqft_lot  floors  waterfront  view  ...  grade  sqft_above  sqft_basement  \\\n",
       "0      5650     1.0         NaN   0.0  ...      7        1180            0.0   \n",
       "1      7242     2.0         0.0   0.0  ...      7        2170          400.0   \n",
       "2     10000     1.0         0.0   0.0  ...      6         770            0.0   \n",
       "3      5000     1.0         0.0   0.0  ...      7        1050          910.0   \n",
       "4      8080     1.0         0.0   0.0  ...      8        1680            0.0   \n",
       "\n",
       "  yr_built  yr_renovated  zipcode      lat     long  sqft_living15  sqft_lot15  \n",
       "0     1955           0.0    98178  47.5112 -122.257           1340        5650  \n",
       "1     1951        1991.0    98125  47.7210 -122.319           1690        7639  \n",
       "2     1933           NaN    98028  47.7379 -122.233           2720        8062  \n",
       "3     1965           0.0    98136  47.5208 -122.393           1360        5000  \n",
       "4     1987           0.0    98074  47.6168 -122.045           1800        7503  \n",
       "\n",
       "[5 rows x 21 columns]"
      ]
     },
     "execution_count": 164,
     "metadata": {},
     "output_type": "execute_result"
    }
   ],
   "source": [
    "df = pd.read_csv('kc_house_data[1].csv')\n",
    "df.head()"
   ]
  },
  {
   "cell_type": "code",
   "execution_count": 165,
   "metadata": {},
   "outputs": [
    {
     "data": {
      "text/plain": [
       "Index(['id', 'date', 'price', 'bedrooms', 'bathrooms', 'sqft_living',\n",
       "       'sqft_lot', 'floors', 'waterfront', 'view', 'condition', 'grade',\n",
       "       'sqft_above', 'sqft_basement', 'yr_built', 'yr_renovated', 'zipcode',\n",
       "       'lat', 'long', 'sqft_living15', 'sqft_lot15'],\n",
       "      dtype='object')"
      ]
     },
     "execution_count": 165,
     "metadata": {},
     "output_type": "execute_result"
    }
   ],
   "source": [
    "df.columns"
   ]
  },
  {
   "cell_type": "code",
   "execution_count": 166,
   "metadata": {},
   "outputs": [
    {
     "data": {
      "text/plain": [
       "(21597, 21)"
      ]
     },
     "execution_count": 166,
     "metadata": {},
     "output_type": "execute_result"
    }
   ],
   "source": [
    "df.shape"
   ]
  },
  {
   "cell_type": "code",
   "execution_count": 167,
   "metadata": {},
   "outputs": [
    {
     "name": "stdout",
     "output_type": "stream",
     "text": [
      "<class 'pandas.core.frame.DataFrame'>\n",
      "RangeIndex: 21597 entries, 0 to 21596\n",
      "Data columns (total 21 columns):\n",
      " #   Column         Non-Null Count  Dtype  \n",
      "---  ------         --------------  -----  \n",
      " 0   id             21597 non-null  int64  \n",
      " 1   date           21597 non-null  object \n",
      " 2   price          21597 non-null  float64\n",
      " 3   bedrooms       21597 non-null  int64  \n",
      " 4   bathrooms      21597 non-null  float64\n",
      " 5   sqft_living    21597 non-null  int64  \n",
      " 6   sqft_lot       21597 non-null  int64  \n",
      " 7   floors         21597 non-null  float64\n",
      " 8   waterfront     19221 non-null  float64\n",
      " 9   view           21534 non-null  float64\n",
      " 10  condition      21597 non-null  int64  \n",
      " 11  grade          21597 non-null  int64  \n",
      " 12  sqft_above     21597 non-null  int64  \n",
      " 13  sqft_basement  21597 non-null  object \n",
      " 14  yr_built       21597 non-null  int64  \n",
      " 15  yr_renovated   17755 non-null  float64\n",
      " 16  zipcode        21597 non-null  int64  \n",
      " 17  lat            21597 non-null  float64\n",
      " 18  long           21597 non-null  float64\n",
      " 19  sqft_living15  21597 non-null  int64  \n",
      " 20  sqft_lot15     21597 non-null  int64  \n",
      "dtypes: float64(8), int64(11), object(2)\n",
      "memory usage: 3.5+ MB\n"
     ]
    }
   ],
   "source": [
    "df.info()"
   ]
  },
  {
   "cell_type": "code",
   "execution_count": 168,
   "metadata": {},
   "outputs": [
    {
     "data": {
      "text/html": [
       "<div>\n",
       "<style scoped>\n",
       "    .dataframe tbody tr th:only-of-type {\n",
       "        vertical-align: middle;\n",
       "    }\n",
       "\n",
       "    .dataframe tbody tr th {\n",
       "        vertical-align: top;\n",
       "    }\n",
       "\n",
       "    .dataframe thead th {\n",
       "        text-align: right;\n",
       "    }\n",
       "</style>\n",
       "<table border=\"1\" class=\"dataframe\">\n",
       "  <thead>\n",
       "    <tr style=\"text-align: right;\">\n",
       "      <th></th>\n",
       "      <th>id</th>\n",
       "      <th>price</th>\n",
       "      <th>bedrooms</th>\n",
       "      <th>bathrooms</th>\n",
       "      <th>sqft_living</th>\n",
       "      <th>sqft_lot</th>\n",
       "      <th>floors</th>\n",
       "      <th>waterfront</th>\n",
       "      <th>view</th>\n",
       "      <th>condition</th>\n",
       "      <th>grade</th>\n",
       "      <th>sqft_above</th>\n",
       "      <th>yr_built</th>\n",
       "      <th>yr_renovated</th>\n",
       "      <th>zipcode</th>\n",
       "      <th>lat</th>\n",
       "      <th>long</th>\n",
       "      <th>sqft_living15</th>\n",
       "      <th>sqft_lot15</th>\n",
       "    </tr>\n",
       "  </thead>\n",
       "  <tbody>\n",
       "    <tr>\n",
       "      <th>count</th>\n",
       "      <td>2.159700e+04</td>\n",
       "      <td>2.159700e+04</td>\n",
       "      <td>21597.000000</td>\n",
       "      <td>21597.000000</td>\n",
       "      <td>21597.000000</td>\n",
       "      <td>2.159700e+04</td>\n",
       "      <td>21597.000000</td>\n",
       "      <td>19221.000000</td>\n",
       "      <td>21534.000000</td>\n",
       "      <td>21597.000000</td>\n",
       "      <td>21597.000000</td>\n",
       "      <td>21597.000000</td>\n",
       "      <td>21597.000000</td>\n",
       "      <td>17755.000000</td>\n",
       "      <td>21597.000000</td>\n",
       "      <td>21597.000000</td>\n",
       "      <td>21597.000000</td>\n",
       "      <td>21597.000000</td>\n",
       "      <td>21597.000000</td>\n",
       "    </tr>\n",
       "    <tr>\n",
       "      <th>mean</th>\n",
       "      <td>4.580474e+09</td>\n",
       "      <td>5.402966e+05</td>\n",
       "      <td>3.373200</td>\n",
       "      <td>2.115826</td>\n",
       "      <td>2080.321850</td>\n",
       "      <td>1.509941e+04</td>\n",
       "      <td>1.494096</td>\n",
       "      <td>0.007596</td>\n",
       "      <td>0.233863</td>\n",
       "      <td>3.409825</td>\n",
       "      <td>7.657915</td>\n",
       "      <td>1788.596842</td>\n",
       "      <td>1970.999676</td>\n",
       "      <td>83.636778</td>\n",
       "      <td>98077.951845</td>\n",
       "      <td>47.560093</td>\n",
       "      <td>-122.213982</td>\n",
       "      <td>1986.620318</td>\n",
       "      <td>12758.283512</td>\n",
       "    </tr>\n",
       "    <tr>\n",
       "      <th>std</th>\n",
       "      <td>2.876736e+09</td>\n",
       "      <td>3.673681e+05</td>\n",
       "      <td>0.926299</td>\n",
       "      <td>0.768984</td>\n",
       "      <td>918.106125</td>\n",
       "      <td>4.141264e+04</td>\n",
       "      <td>0.539683</td>\n",
       "      <td>0.086825</td>\n",
       "      <td>0.765686</td>\n",
       "      <td>0.650546</td>\n",
       "      <td>1.173200</td>\n",
       "      <td>827.759761</td>\n",
       "      <td>29.375234</td>\n",
       "      <td>399.946414</td>\n",
       "      <td>53.513072</td>\n",
       "      <td>0.138552</td>\n",
       "      <td>0.140724</td>\n",
       "      <td>685.230472</td>\n",
       "      <td>27274.441950</td>\n",
       "    </tr>\n",
       "    <tr>\n",
       "      <th>min</th>\n",
       "      <td>1.000102e+06</td>\n",
       "      <td>7.800000e+04</td>\n",
       "      <td>1.000000</td>\n",
       "      <td>0.500000</td>\n",
       "      <td>370.000000</td>\n",
       "      <td>5.200000e+02</td>\n",
       "      <td>1.000000</td>\n",
       "      <td>0.000000</td>\n",
       "      <td>0.000000</td>\n",
       "      <td>1.000000</td>\n",
       "      <td>3.000000</td>\n",
       "      <td>370.000000</td>\n",
       "      <td>1900.000000</td>\n",
       "      <td>0.000000</td>\n",
       "      <td>98001.000000</td>\n",
       "      <td>47.155900</td>\n",
       "      <td>-122.519000</td>\n",
       "      <td>399.000000</td>\n",
       "      <td>651.000000</td>\n",
       "    </tr>\n",
       "    <tr>\n",
       "      <th>25%</th>\n",
       "      <td>2.123049e+09</td>\n",
       "      <td>3.220000e+05</td>\n",
       "      <td>3.000000</td>\n",
       "      <td>1.750000</td>\n",
       "      <td>1430.000000</td>\n",
       "      <td>5.040000e+03</td>\n",
       "      <td>1.000000</td>\n",
       "      <td>0.000000</td>\n",
       "      <td>0.000000</td>\n",
       "      <td>3.000000</td>\n",
       "      <td>7.000000</td>\n",
       "      <td>1190.000000</td>\n",
       "      <td>1951.000000</td>\n",
       "      <td>0.000000</td>\n",
       "      <td>98033.000000</td>\n",
       "      <td>47.471100</td>\n",
       "      <td>-122.328000</td>\n",
       "      <td>1490.000000</td>\n",
       "      <td>5100.000000</td>\n",
       "    </tr>\n",
       "    <tr>\n",
       "      <th>50%</th>\n",
       "      <td>3.904930e+09</td>\n",
       "      <td>4.500000e+05</td>\n",
       "      <td>3.000000</td>\n",
       "      <td>2.250000</td>\n",
       "      <td>1910.000000</td>\n",
       "      <td>7.618000e+03</td>\n",
       "      <td>1.500000</td>\n",
       "      <td>0.000000</td>\n",
       "      <td>0.000000</td>\n",
       "      <td>3.000000</td>\n",
       "      <td>7.000000</td>\n",
       "      <td>1560.000000</td>\n",
       "      <td>1975.000000</td>\n",
       "      <td>0.000000</td>\n",
       "      <td>98065.000000</td>\n",
       "      <td>47.571800</td>\n",
       "      <td>-122.231000</td>\n",
       "      <td>1840.000000</td>\n",
       "      <td>7620.000000</td>\n",
       "    </tr>\n",
       "    <tr>\n",
       "      <th>75%</th>\n",
       "      <td>7.308900e+09</td>\n",
       "      <td>6.450000e+05</td>\n",
       "      <td>4.000000</td>\n",
       "      <td>2.500000</td>\n",
       "      <td>2550.000000</td>\n",
       "      <td>1.068500e+04</td>\n",
       "      <td>2.000000</td>\n",
       "      <td>0.000000</td>\n",
       "      <td>0.000000</td>\n",
       "      <td>4.000000</td>\n",
       "      <td>8.000000</td>\n",
       "      <td>2210.000000</td>\n",
       "      <td>1997.000000</td>\n",
       "      <td>0.000000</td>\n",
       "      <td>98118.000000</td>\n",
       "      <td>47.678000</td>\n",
       "      <td>-122.125000</td>\n",
       "      <td>2360.000000</td>\n",
       "      <td>10083.000000</td>\n",
       "    </tr>\n",
       "    <tr>\n",
       "      <th>max</th>\n",
       "      <td>9.900000e+09</td>\n",
       "      <td>7.700000e+06</td>\n",
       "      <td>33.000000</td>\n",
       "      <td>8.000000</td>\n",
       "      <td>13540.000000</td>\n",
       "      <td>1.651359e+06</td>\n",
       "      <td>3.500000</td>\n",
       "      <td>1.000000</td>\n",
       "      <td>4.000000</td>\n",
       "      <td>5.000000</td>\n",
       "      <td>13.000000</td>\n",
       "      <td>9410.000000</td>\n",
       "      <td>2015.000000</td>\n",
       "      <td>2015.000000</td>\n",
       "      <td>98199.000000</td>\n",
       "      <td>47.777600</td>\n",
       "      <td>-121.315000</td>\n",
       "      <td>6210.000000</td>\n",
       "      <td>871200.000000</td>\n",
       "    </tr>\n",
       "  </tbody>\n",
       "</table>\n",
       "</div>"
      ],
      "text/plain": [
       "                 id         price      bedrooms     bathrooms   sqft_living  \\\n",
       "count  2.159700e+04  2.159700e+04  21597.000000  21597.000000  21597.000000   \n",
       "mean   4.580474e+09  5.402966e+05      3.373200      2.115826   2080.321850   \n",
       "std    2.876736e+09  3.673681e+05      0.926299      0.768984    918.106125   \n",
       "min    1.000102e+06  7.800000e+04      1.000000      0.500000    370.000000   \n",
       "25%    2.123049e+09  3.220000e+05      3.000000      1.750000   1430.000000   \n",
       "50%    3.904930e+09  4.500000e+05      3.000000      2.250000   1910.000000   \n",
       "75%    7.308900e+09  6.450000e+05      4.000000      2.500000   2550.000000   \n",
       "max    9.900000e+09  7.700000e+06     33.000000      8.000000  13540.000000   \n",
       "\n",
       "           sqft_lot        floors    waterfront          view     condition  \\\n",
       "count  2.159700e+04  21597.000000  19221.000000  21534.000000  21597.000000   \n",
       "mean   1.509941e+04      1.494096      0.007596      0.233863      3.409825   \n",
       "std    4.141264e+04      0.539683      0.086825      0.765686      0.650546   \n",
       "min    5.200000e+02      1.000000      0.000000      0.000000      1.000000   \n",
       "25%    5.040000e+03      1.000000      0.000000      0.000000      3.000000   \n",
       "50%    7.618000e+03      1.500000      0.000000      0.000000      3.000000   \n",
       "75%    1.068500e+04      2.000000      0.000000      0.000000      4.000000   \n",
       "max    1.651359e+06      3.500000      1.000000      4.000000      5.000000   \n",
       "\n",
       "              grade    sqft_above      yr_built  yr_renovated       zipcode  \\\n",
       "count  21597.000000  21597.000000  21597.000000  17755.000000  21597.000000   \n",
       "mean       7.657915   1788.596842   1970.999676     83.636778  98077.951845   \n",
       "std        1.173200    827.759761     29.375234    399.946414     53.513072   \n",
       "min        3.000000    370.000000   1900.000000      0.000000  98001.000000   \n",
       "25%        7.000000   1190.000000   1951.000000      0.000000  98033.000000   \n",
       "50%        7.000000   1560.000000   1975.000000      0.000000  98065.000000   \n",
       "75%        8.000000   2210.000000   1997.000000      0.000000  98118.000000   \n",
       "max       13.000000   9410.000000   2015.000000   2015.000000  98199.000000   \n",
       "\n",
       "                lat          long  sqft_living15     sqft_lot15  \n",
       "count  21597.000000  21597.000000   21597.000000   21597.000000  \n",
       "mean      47.560093   -122.213982    1986.620318   12758.283512  \n",
       "std        0.138552      0.140724     685.230472   27274.441950  \n",
       "min       47.155900   -122.519000     399.000000     651.000000  \n",
       "25%       47.471100   -122.328000    1490.000000    5100.000000  \n",
       "50%       47.571800   -122.231000    1840.000000    7620.000000  \n",
       "75%       47.678000   -122.125000    2360.000000   10083.000000  \n",
       "max       47.777600   -121.315000    6210.000000  871200.000000  "
      ]
     },
     "execution_count": 168,
     "metadata": {},
     "output_type": "execute_result"
    }
   ],
   "source": [
    "df.describe()"
   ]
  },
  {
   "cell_type": "code",
   "execution_count": 169,
   "metadata": {},
   "outputs": [
    {
     "data": {
      "text/plain": [
       "id                  0\n",
       "date                0\n",
       "price               0\n",
       "bedrooms            0\n",
       "bathrooms           0\n",
       "sqft_living         0\n",
       "sqft_lot            0\n",
       "floors              0\n",
       "waterfront       2376\n",
       "view               63\n",
       "condition           0\n",
       "grade               0\n",
       "sqft_above          0\n",
       "sqft_basement       0\n",
       "yr_built            0\n",
       "yr_renovated     3842\n",
       "zipcode             0\n",
       "lat                 0\n",
       "long                0\n",
       "sqft_living15       0\n",
       "sqft_lot15          0\n",
       "dtype: int64"
      ]
     },
     "execution_count": 169,
     "metadata": {},
     "output_type": "execute_result"
    }
   ],
   "source": [
    "df.isna().sum()"
   ]
  },
  {
   "cell_type": "code",
   "execution_count": 170,
   "metadata": {},
   "outputs": [
    {
     "data": {
      "text/plain": [
       "0        NaN\n",
       "1        0.0\n",
       "2        0.0\n",
       "3        0.0\n",
       "4        0.0\n",
       "        ... \n",
       "21592    0.0\n",
       "21593    0.0\n",
       "21594    0.0\n",
       "21595    NaN\n",
       "21596    0.0\n",
       "Name: waterfront, Length: 21597, dtype: float64"
      ]
     },
     "execution_count": 170,
     "metadata": {},
     "output_type": "execute_result"
    }
   ],
   "source": [
    "df['waterfront']"
   ]
  },
  {
   "cell_type": "code",
   "execution_count": 171,
   "metadata": {},
   "outputs": [
    {
     "data": {
      "text/plain": [
       "waterfront\n",
       "0.0    19075\n",
       "1.0      146\n",
       "Name: count, dtype: int64"
      ]
     },
     "execution_count": 171,
     "metadata": {},
     "output_type": "execute_result"
    }
   ],
   "source": [
    "df['waterfront'].value_counts()"
   ]
  },
  {
   "cell_type": "code",
   "execution_count": 172,
   "metadata": {},
   "outputs": [
    {
     "data": {
      "text/plain": [
       "2376"
      ]
     },
     "execution_count": 172,
     "metadata": {},
     "output_type": "execute_result"
    }
   ],
   "source": [
    "df['waterfront'].isna().sum()"
   ]
  },
  {
   "cell_type": "code",
   "execution_count": 173,
   "metadata": {},
   "outputs": [
    {
     "data": {
      "text/plain": [
       "0"
      ]
     },
     "execution_count": 173,
     "metadata": {},
     "output_type": "execute_result"
    }
   ],
   "source": [
    "df['waterfront'].fillna(0.0,inplace=True)\n",
    "df['waterfront'].isna().sum()"
   ]
  },
  {
   "cell_type": "code",
   "execution_count": 174,
   "metadata": {},
   "outputs": [
    {
     "data": {
      "text/plain": [
       "Index(['id', 'date', 'price', 'bedrooms', 'bathrooms', 'sqft_living',\n",
       "       'sqft_lot', 'floors', 'waterfront', 'view', 'condition', 'grade',\n",
       "       'sqft_above', 'sqft_basement', 'yr_built', 'yr_renovated', 'zipcode',\n",
       "       'lat', 'long', 'sqft_living15', 'sqft_lot15'],\n",
       "      dtype='object')"
      ]
     },
     "execution_count": 174,
     "metadata": {},
     "output_type": "execute_result"
    }
   ],
   "source": [
    "df.columns"
   ]
  },
  {
   "cell_type": "code",
   "execution_count": 175,
   "metadata": {},
   "outputs": [
    {
     "data": {
      "text/plain": [
       "id               0\n",
       "date             0\n",
       "price            0\n",
       "bedrooms         0\n",
       "bathrooms        0\n",
       "sqft_living      0\n",
       "sqft_lot         0\n",
       "floors           0\n",
       "waterfront       0\n",
       "condition        0\n",
       "grade            0\n",
       "sqft_above       0\n",
       "sqft_basement    0\n",
       "yr_built         0\n",
       "zipcode          0\n",
       "lat              0\n",
       "long             0\n",
       "sqft_living15    0\n",
       "sqft_lot15       0\n",
       "dtype: int64"
      ]
     },
     "execution_count": 175,
     "metadata": {},
     "output_type": "execute_result"
    }
   ],
   "source": [
    "df.drop(columns=['yr_renovated'],inplace=True)\n",
    "df.drop(columns=['view'],inplace=True)\n",
    "df.isna().sum()"
   ]
  },
  {
   "cell_type": "code",
   "execution_count": 176,
   "metadata": {},
   "outputs": [
    {
     "data": {
      "text/plain": [
       "grade\n",
       "7     8974\n",
       "8     6065\n",
       "9     2615\n",
       "6     2038\n",
       "10    1134\n",
       "11     399\n",
       "5      242\n",
       "12      89\n",
       "4       27\n",
       "13      13\n",
       "3        1\n",
       "Name: count, dtype: int64"
      ]
     },
     "execution_count": 176,
     "metadata": {},
     "output_type": "execute_result"
    }
   ],
   "source": [
    "df['grade'].value_counts()"
   ]
  },
  {
   "cell_type": "code",
   "execution_count": 177,
   "metadata": {},
   "outputs": [
    {
     "name": "stdout",
     "output_type": "stream",
     "text": [
      "<class 'pandas.core.frame.DataFrame'>\n",
      "RangeIndex: 21597 entries, 0 to 21596\n",
      "Data columns (total 19 columns):\n",
      " #   Column         Non-Null Count  Dtype  \n",
      "---  ------         --------------  -----  \n",
      " 0   id             21597 non-null  int64  \n",
      " 1   date           21597 non-null  object \n",
      " 2   price          21597 non-null  float64\n",
      " 3   bedrooms       21597 non-null  int64  \n",
      " 4   bathrooms      21597 non-null  float64\n",
      " 5   sqft_living    21597 non-null  int64  \n",
      " 6   sqft_lot       21597 non-null  int64  \n",
      " 7   floors         21597 non-null  float64\n",
      " 8   waterfront     21597 non-null  float64\n",
      " 9   condition      21597 non-null  int64  \n",
      " 10  grade          21597 non-null  int64  \n",
      " 11  sqft_above     21597 non-null  int64  \n",
      " 12  sqft_basement  21597 non-null  object \n",
      " 13  yr_built       21597 non-null  int64  \n",
      " 14  zipcode        21597 non-null  int64  \n",
      " 15  lat            21597 non-null  float64\n",
      " 16  long           21597 non-null  float64\n",
      " 17  sqft_living15  21597 non-null  int64  \n",
      " 18  sqft_lot15     21597 non-null  int64  \n",
      "dtypes: float64(6), int64(11), object(2)\n",
      "memory usage: 3.1+ MB\n"
     ]
    }
   ],
   "source": [
    "df.info()"
   ]
  },
  {
   "cell_type": "code",
   "execution_count": 178,
   "metadata": {},
   "outputs": [
    {
     "data": {
      "text/plain": [
       "0        10/13/2014\n",
       "1         12/9/2014\n",
       "2         2/25/2015\n",
       "3         12/9/2014\n",
       "4         2/18/2015\n",
       "            ...    \n",
       "21592     5/21/2014\n",
       "21593     2/23/2015\n",
       "21594     6/23/2014\n",
       "21595     1/16/2015\n",
       "21596    10/15/2014\n",
       "Name: date, Length: 21597, dtype: object"
      ]
     },
     "execution_count": 178,
     "metadata": {},
     "output_type": "execute_result"
    }
   ],
   "source": [
    "df['date']"
   ]
  },
  {
   "cell_type": "code",
   "execution_count": 179,
   "metadata": {},
   "outputs": [
    {
     "data": {
      "text/plain": [
       "0       2014-10-13\n",
       "1       2014-12-09\n",
       "2       2015-02-25\n",
       "3       2014-12-09\n",
       "4       2015-02-18\n",
       "           ...    \n",
       "21592   2014-05-21\n",
       "21593   2015-02-23\n",
       "21594   2014-06-23\n",
       "21595   2015-01-16\n",
       "21596   2014-10-15\n",
       "Name: date, Length: 21597, dtype: datetime64[ns]"
      ]
     },
     "execution_count": 179,
     "metadata": {},
     "output_type": "execute_result"
    }
   ],
   "source": [
    "date_df=pd.to_datetime(df['date'])\n",
    "date_df"
   ]
  },
  {
   "cell_type": "code",
   "execution_count": 180,
   "metadata": {},
   "outputs": [
    {
     "data": {
      "text/plain": [
       "(Timestamp('2014-05-02 00:00:00'), Timestamp('2015-05-27 00:00:00'))"
      ]
     },
     "execution_count": 180,
     "metadata": {},
     "output_type": "execute_result"
    }
   ],
   "source": [
    "date_df.min(),date_df.max()"
   ]
  },
  {
   "cell_type": "markdown",
   "metadata": {},
   "source": [
    "dataframe has 21597 entries with waterfront,view and yr_renovated having null entries\n",
    "df range int64,float64 require further analysis\n"
   ]
  },
  {
   "cell_type": "code",
   "execution_count": 181,
   "metadata": {},
   "outputs": [
    {
     "data": {
      "text/plain": [
       "0"
      ]
     },
     "execution_count": 181,
     "metadata": {},
     "output_type": "execute_result"
    }
   ],
   "source": [
    "df.duplicated().sum()"
   ]
  },
  {
   "cell_type": "code",
   "execution_count": 182,
   "metadata": {},
   "outputs": [
    {
     "name": "stdout",
     "output_type": "stream",
     "text": [
      "id \n",
      " id\n",
      "795000620     0.000139\n",
      "8910500150    0.000093\n",
      "7409700215    0.000093\n",
      "1995200200    0.000093\n",
      "9211500620    0.000093\n",
      "                ...   \n",
      "3649100387    0.000046\n",
      "2767603649    0.000046\n",
      "1446403617    0.000046\n",
      "5602000275    0.000046\n",
      "1523300157    0.000046\n",
      "Name: proportion, Length: 21420, dtype: float64 \n",
      "\n",
      "date \n",
      " date\n",
      "6/23/2014    0.006575\n",
      "6/25/2014    0.006066\n",
      "6/26/2014    0.006066\n",
      "7/8/2014     0.005880\n",
      "4/27/2015    0.005834\n",
      "               ...   \n",
      "11/2/2014    0.000046\n",
      "1/31/2015    0.000046\n",
      "5/24/2015    0.000046\n",
      "5/17/2014    0.000046\n",
      "7/27/2014    0.000046\n",
      "Name: proportion, Length: 372, dtype: float64 \n",
      "\n",
      "price \n",
      " price\n",
      "450000.0    0.007964\n",
      "350000.0    0.007964\n",
      "550000.0    0.007362\n",
      "500000.0    0.007038\n",
      "425000.0    0.006945\n",
      "              ...   \n",
      "278800.0    0.000046\n",
      "439888.0    0.000046\n",
      "354901.0    0.000046\n",
      "942000.0    0.000046\n",
      "402101.0    0.000046\n",
      "Name: proportion, Length: 3622, dtype: float64 \n",
      "\n",
      "bedrooms \n",
      " bedrooms\n",
      "3     0.454878\n",
      "4     0.318655\n",
      "2     0.127796\n",
      "5     0.074131\n",
      "6     0.012594\n",
      "1     0.009075\n",
      "7     0.001760\n",
      "8     0.000602\n",
      "9     0.000278\n",
      "10    0.000139\n",
      "11    0.000046\n",
      "33    0.000046\n",
      "Name: proportion, dtype: float64 \n",
      "\n",
      "bathrooms \n",
      " bathrooms\n",
      "2.50    0.248970\n",
      "1.00    0.178312\n",
      "1.75    0.141131\n",
      "2.25    0.094782\n",
      "2.00    0.089364\n",
      "1.50    0.066907\n",
      "2.75    0.054869\n",
      "3.00    0.034866\n",
      "3.50    0.033847\n",
      "3.25    0.027272\n",
      "3.75    0.007177\n",
      "4.00    0.006297\n",
      "4.50    0.004630\n",
      "4.25    0.003658\n",
      "0.75    0.003287\n",
      "4.75    0.001065\n",
      "5.00    0.000972\n",
      "5.25    0.000602\n",
      "5.50    0.000463\n",
      "1.25    0.000417\n",
      "6.00    0.000278\n",
      "0.50    0.000185\n",
      "5.75    0.000185\n",
      "6.75    0.000093\n",
      "8.00    0.000093\n",
      "6.25    0.000093\n",
      "6.50    0.000093\n",
      "7.50    0.000046\n",
      "7.75    0.000046\n",
      "Name: proportion, dtype: float64 \n",
      "\n",
      "sqft_living \n",
      " sqft_living\n",
      "1300    0.006390\n",
      "1400    0.006251\n",
      "1440    0.006158\n",
      "1800    0.005973\n",
      "1660    0.005973\n",
      "          ...   \n",
      "2507    0.000046\n",
      "9890    0.000046\n",
      "5584    0.000046\n",
      "1961    0.000046\n",
      "1425    0.000046\n",
      "Name: proportion, Length: 1034, dtype: float64 \n",
      "\n",
      "sqft_lot \n",
      " sqft_lot\n",
      "5000     0.016576\n",
      "6000     0.013428\n",
      "4000     0.011622\n",
      "7200     0.010187\n",
      "4800     0.005510\n",
      "           ...   \n",
      "22605    0.000046\n",
      "25248    0.000046\n",
      "9934     0.000046\n",
      "9142     0.000046\n",
      "1076     0.000046\n",
      "Name: proportion, Length: 9776, dtype: float64 \n",
      "\n",
      "floors \n",
      " floors\n",
      "1.0    0.494189\n",
      "2.0    0.381303\n",
      "1.5    0.088438\n",
      "3.0    0.028291\n",
      "2.5    0.007455\n",
      "3.5    0.000324\n",
      "Name: proportion, dtype: float64 \n",
      "\n",
      "waterfront \n",
      " waterfront\n",
      "0.0    0.99324\n",
      "1.0    0.00676\n",
      "Name: proportion, dtype: float64 \n",
      "\n",
      "condition \n",
      " condition\n",
      "3    0.649164\n",
      "4    0.262861\n",
      "5    0.078761\n",
      "2    0.007871\n",
      "1    0.001343\n",
      "Name: proportion, dtype: float64 \n",
      "\n",
      "grade \n",
      " grade\n",
      "7     0.415521\n",
      "8     0.280826\n",
      "9     0.121082\n",
      "6     0.094365\n",
      "10    0.052507\n",
      "11    0.018475\n",
      "5     0.011205\n",
      "12    0.004121\n",
      "4     0.001250\n",
      "13    0.000602\n",
      "3     0.000046\n",
      "Name: proportion, dtype: float64 \n",
      "\n",
      "sqft_above \n",
      " sqft_above\n",
      "1300    0.009816\n",
      "1010    0.009724\n",
      "1200    0.009538\n",
      "1220    0.008890\n",
      "1140    0.008520\n",
      "          ...   \n",
      "3674    0.000046\n",
      "2979    0.000046\n",
      "2382    0.000046\n",
      "6290    0.000046\n",
      "1425    0.000046\n",
      "Name: proportion, Length: 942, dtype: float64 \n",
      "\n",
      "sqft_basement \n",
      " sqft_basement\n",
      "0.0       0.593879\n",
      "?         0.021021\n",
      "600.0     0.010048\n",
      "500.0     0.009677\n",
      "700.0     0.009631\n",
      "            ...   \n",
      "1920.0    0.000046\n",
      "3480.0    0.000046\n",
      "2730.0    0.000046\n",
      "2720.0    0.000046\n",
      "248.0     0.000046\n",
      "Name: proportion, Length: 304, dtype: float64 \n",
      "\n",
      "yr_built \n",
      " yr_built\n",
      "2014    0.025883\n",
      "2006    0.020975\n",
      "2005    0.020836\n",
      "2004    0.020049\n",
      "2003    0.019447\n",
      "          ...   \n",
      "1933    0.001389\n",
      "1901    0.001343\n",
      "1902    0.001250\n",
      "1935    0.001111\n",
      "1934    0.000972\n",
      "Name: proportion, Length: 116, dtype: float64 \n",
      "\n",
      "zipcode \n",
      " zipcode\n",
      "98103    0.027874\n",
      "98038    0.027272\n",
      "98115    0.026994\n",
      "98052    0.026578\n",
      "98117    0.025605\n",
      "           ...   \n",
      "98102    0.004815\n",
      "98010    0.004630\n",
      "98024    0.003704\n",
      "98148    0.002639\n",
      "98039    0.002315\n",
      "Name: proportion, Length: 70, dtype: float64 \n",
      "\n",
      "lat \n",
      " lat\n",
      "47.5491    0.000787\n",
      "47.6846    0.000787\n",
      "47.5322    0.000787\n",
      "47.6624    0.000787\n",
      "47.6711    0.000741\n",
      "             ...   \n",
      "47.1976    0.000046\n",
      "47.3013    0.000046\n",
      "47.6139    0.000046\n",
      "47.4184    0.000046\n",
      "47.6502    0.000046\n",
      "Name: proportion, Length: 5033, dtype: float64 \n",
      "\n",
      "long \n",
      " long\n",
      "-122.290    0.005325\n",
      "-122.300    0.005140\n",
      "-122.362    0.004815\n",
      "-122.291    0.004630\n",
      "-122.372    0.004584\n",
      "              ...   \n",
      "-122.459    0.000046\n",
      "-121.726    0.000046\n",
      "-121.819    0.000046\n",
      "-122.440    0.000046\n",
      "-121.403    0.000046\n",
      "Name: proportion, Length: 751, dtype: float64 \n",
      "\n",
      "sqft_living15 \n",
      " sqft_living15\n",
      "1540    0.009122\n",
      "1440    0.009029\n",
      "1560    0.008890\n",
      "1500    0.008334\n",
      "1460    0.007825\n",
      "          ...   \n",
      "3736    0.000046\n",
      "4950    0.000046\n",
      "2728    0.000046\n",
      "4740    0.000046\n",
      "2927    0.000046\n",
      "Name: proportion, Length: 777, dtype: float64 \n",
      "\n",
      "sqft_lot15 \n",
      " sqft_lot15\n",
      "5000     0.019771\n",
      "4000     0.016484\n",
      "6000     0.013335\n",
      "7200     0.009724\n",
      "4800     0.006714\n",
      "           ...   \n",
      "10170    0.000046\n",
      "10573    0.000046\n",
      "11477    0.000046\n",
      "1449     0.000046\n",
      "2007     0.000046\n",
      "Name: proportion, Length: 8682, dtype: float64 \n",
      "\n"
     ]
    }
   ],
   "source": [
    "def extreme_values(df):\n",
    "    for col in df.columns:\n",
    "        print(col,'\\n',df[col].value_counts(normalize=True),'\\n')\n",
    "extreme_values(df)"
   ]
  },
  {
   "cell_type": "markdown",
   "metadata": {},
   "source": [
    "## check for duplicates"
   ]
  },
  {
   "cell_type": "code",
   "execution_count": 183,
   "metadata": {},
   "outputs": [
    {
     "data": {
      "text/plain": [
       "0"
      ]
     },
     "execution_count": 183,
     "metadata": {},
     "output_type": "execute_result"
    }
   ],
   "source": [
    "df.duplicated().sum()"
   ]
  },
  {
   "cell_type": "code",
   "execution_count": 184,
   "metadata": {},
   "outputs": [
    {
     "data": {
      "text/plain": [
       "id\n",
       "795000620     3\n",
       "8910500150    2\n",
       "7409700215    2\n",
       "1995200200    2\n",
       "9211500620    2\n",
       "             ..\n",
       "3649100387    1\n",
       "2767603649    1\n",
       "1446403617    1\n",
       "5602000275    1\n",
       "1523300157    1\n",
       "Name: count, Length: 21420, dtype: int64"
      ]
     },
     "execution_count": 184,
     "metadata": {},
     "output_type": "execute_result"
    }
   ],
   "source": [
    "df['id'].value_counts()"
   ]
  },
  {
   "cell_type": "code",
   "execution_count": 185,
   "metadata": {},
   "outputs": [
    {
     "data": {
      "text/plain": [
       "177"
      ]
     },
     "execution_count": 185,
     "metadata": {},
     "output_type": "execute_result"
    }
   ],
   "source": [
    "sold_more_than_once = len(df) - len(df['id'].value_counts())\n",
    "sold_more_than_once"
   ]
  },
  {
   "cell_type": "markdown",
   "metadata": {},
   "source": [
    "177 houses have been sold more than once in the period of one year from 2-5-2014 to 27-5-2015"
   ]
  },
  {
   "cell_type": "code",
   "execution_count": 186,
   "metadata": {},
   "outputs": [
    {
     "data": {
      "text/plain": [
       "sqft_basement\n",
       "0.0       12826\n",
       "?           454\n",
       "600.0       217\n",
       "500.0       209\n",
       "700.0       208\n",
       "          ...  \n",
       "1920.0        1\n",
       "3480.0        1\n",
       "2730.0        1\n",
       "2720.0        1\n",
       "248.0         1\n",
       "Name: count, Length: 304, dtype: int64"
      ]
     },
     "execution_count": 186,
     "metadata": {},
     "output_type": "execute_result"
    }
   ],
   "source": [
    "df['sqft_basement'].value_counts()"
   ]
  },
  {
   "cell_type": "code",
   "execution_count": 187,
   "metadata": {},
   "outputs": [
    {
     "data": {
      "text/plain": [
       "dtype('float64')"
      ]
     },
     "execution_count": 187,
     "metadata": {},
     "output_type": "execute_result"
    }
   ],
   "source": [
    "df['sqft_basement'] = pd.to_numeric(df['sqft_basement'],errors='coerce')\n",
    "(df['sqft_basement'].dtype)"
   ]
  },
  {
   "cell_type": "code",
   "execution_count": 188,
   "metadata": {},
   "outputs": [
    {
     "data": {
      "text/plain": [
       "<Axes: ylabel='sqft_basement'>"
      ]
     },
     "execution_count": 188,
     "metadata": {},
     "output_type": "execute_result"
    },
    {
     "data": {
      "image/png": "[encoded data removed]",
      "text/plain": [
       "<Figure size 640x480 with 1 Axes>"
      ]
     },
     "metadata": {},
     "output_type": "display_data"
    }
   ],
   "source": [
    "sns.boxplot(y=df['sqft_basement'], color='r')"
   ]
  },
  {
   "cell_type": "code",
   "execution_count": 189,
   "metadata": {},
   "outputs": [
    {
     "name": "stdout",
     "output_type": "stream",
     "text": [
      "   sqft_basement  has_basement  log_sqft_basement basement_size_category\n",
      "0            0.0             0           0.000000            No_basement\n",
      "1          400.0             1           5.993961            No_basement\n",
      "2            0.0             0           0.000000            No_basement\n",
      "3          910.0             1           6.814543                  small\n",
      "4            0.0             0           0.000000            No_basement\n"
     ]
    }
   ],
   "source": [
    "df['has_basement'] =df['sqft_basement'].apply(lambda x: 0 if x == 0 else 1)\n",
    "df['log_sqft_basement']=df['sqft_basement'].apply(lambda x: np.log1p(x))\n",
    "give=[0,500,1000,1500,2000, np.inf]\n",
    "labels=['No_basement','small','medium','large','very large']\n",
    "df['basement_size_category'] = pd.cut(df['sqft_basement'], bins=give, labels=labels, right=False)\n",
    "print(df[['sqft_basement', 'has_basement', 'log_sqft_basement', 'basement_size_category']].head())"
   ]
  },
  {
   "cell_type": "code",
   "execution_count": 190,
   "metadata": {},
   "outputs": [
    {
     "data": {
      "text/plain": [
       "bedrooms\n",
       "3     9824\n",
       "4     6882\n",
       "2     2760\n",
       "5     1601\n",
       "6      272\n",
       "1      196\n",
       "7       38\n",
       "8       13\n",
       "9        6\n",
       "10       3\n",
       "11       1\n",
       "33       1\n",
       "Name: count, dtype: int64"
      ]
     },
     "execution_count": 190,
     "metadata": {},
     "output_type": "execute_result"
    }
   ],
   "source": [
    "df['bedrooms'].value_counts()"
   ]
  },
  {
   "cell_type": "code",
   "execution_count": 191,
   "metadata": {},
   "outputs": [
    {
     "data": {
      "text/plain": [
       "bedrooms\n",
       "3     9825\n",
       "4     6882\n",
       "2     2760\n",
       "5     1601\n",
       "6      272\n",
       "1      196\n",
       "7       38\n",
       "8       13\n",
       "9        6\n",
       "10       3\n",
       "11       1\n",
       "Name: count, dtype: int64"
      ]
     },
     "execution_count": 191,
     "metadata": {},
     "output_type": "execute_result"
    }
   ],
   "source": [
    "df['bedrooms'].replace(33,3, inplace=True)\n",
    "df['bedrooms'].value_counts()"
   ]
  },
  {
   "cell_type": "code",
   "execution_count": 192,
   "metadata": {},
   "outputs": [
    {
     "name": "stdout",
     "output_type": "stream",
     "text": [
      "<class 'pandas.core.frame.DataFrame'>\n",
      "RangeIndex: 21597 entries, 0 to 21596\n",
      "Data columns (total 22 columns):\n",
      " #   Column                  Non-Null Count  Dtype   \n",
      "---  ------                  --------------  -----   \n",
      " 0   id                      21597 non-null  int64   \n",
      " 1   date                    21597 non-null  object  \n",
      " 2   price                   21597 non-null  float64 \n",
      " 3   bedrooms                21597 non-null  int64   \n",
      " 4   bathrooms               21597 non-null  float64 \n",
      " 5   sqft_living             21597 non-null  int64   \n",
      " 6   sqft_lot                21597 non-null  int64   \n",
      " 7   floors                  21597 non-null  float64 \n",
      " 8   waterfront              21597 non-null  float64 \n",
      " 9   condition               21597 non-null  int64   \n",
      " 10  grade                   21597 non-null  int64   \n",
      " 11  sqft_above              21597 non-null  int64   \n",
      " 12  sqft_basement           21143 non-null  float64 \n",
      " 13  yr_built                21597 non-null  int64   \n",
      " 14  zipcode                 21597 non-null  int64   \n",
      " 15  lat                     21597 non-null  float64 \n",
      " 16  long                    21597 non-null  float64 \n",
      " 17  sqft_living15           21597 non-null  int64   \n",
      " 18  sqft_lot15              21597 non-null  int64   \n",
      " 19  has_basement            21597 non-null  int64   \n",
      " 20  log_sqft_basement       21143 non-null  float64 \n",
      " 21  basement_size_category  21143 non-null  category\n",
      "dtypes: category(1), float64(8), int64(12), object(1)\n",
      "memory usage: 3.5+ MB\n"
     ]
    }
   ],
   "source": [
    "df.info()"
   ]
  },
  {
   "cell_type": "code",
   "execution_count": 193,
   "metadata": {},
   "outputs": [
    {
     "name": "stdout",
     "output_type": "stream",
     "text": [
      "categorical_columns: ['date']\n",
      "numerical_columns: ['id', 'price', 'bedrooms', 'bathrooms', 'sqft_living', 'sqft_lot', 'floors', 'waterfront', 'condition', 'grade', 'sqft_above', 'sqft_basement', 'yr_built', 'zipcode', 'lat', 'long', 'sqft_living15', 'sqft_lot15', 'has_basement', 'log_sqft_basement', 'basement_size_category']\n"
     ]
    }
   ],
   "source": [
    "categorical_columns = []\n",
    "numerical_columns = []\n",
    "for name in df.columns:\n",
    "    if df[name].dtype == 'O':\n",
    "        categorical_columns.append(name)\n",
    "    else:\n",
    "        numerical_columns.append(name)  \n",
    "print(f'categorical_columns:', categorical_columns)\n",
    "print(f'numerical_columns:', numerical_columns)\n",
    "        "
   ]
  },
  {
   "cell_type": "code",
   "execution_count": 194,
   "metadata": {},
   "outputs": [
    {
     "data": {
      "image/png": "[encoded data removed]",
      "text/plain": [
       "<Figure size 2500x250 with 10 Axes>"
      ]
     },
     "metadata": {},
     "output_type": "display_data"
    }
   ],
   "source": [
    "numerical_columns1 = ['price', 'bedrooms', 'bathrooms', 'sqft_living', 'sqft_lot', 'floors', \n",
    "                      'sqft_above', 'sqft_basement', 'yr_built', 'lat', 'long']\n",
    "df_subset  = df[numerical_columns1]\n",
    "sns.pairplot(df_subset, y_vars=['price'], x_vars=numerical_columns1[1:])\n",
    "plt.suptitle('Scatter plots of Features vs Price',y=1.02)\n",
    "plt.show()\n"
   ]
  },
  {
   "cell_type": "markdown",
   "metadata": {},
   "source": [
    "### interpretation:\n",
    "\n",
    "1. Bedrooms\n",
    "> The plot shows a wide range of prices for different numbers of bedrooms.\n",
    "> There isn't a strong linear relationship between the number of bedrooms and price.  \n",
    "\n",
    "2. Bathrooms  \n",
    "> There seems to be a positive relationship, with more bathrooms generally associated with higher prices.  \n",
    "\n",
    "3. Sqft living   \n",
    "> There is a clear positive correlation between the square footage of living space and price, thus significant feature for predicting price \n",
    "\n",
    "4. Sqft Lot   \n",
    "> The relationship is not as clear, this might be a less significant feature or require transformation for better modelling   \n",
    "\n",
    "5. Floors   \n",
    "> There is a slight positive trend, but the relationship not that strong   \n",
    "\n",
    "6. sqft above  \n",
    "> There is a positive correlation  \n",
    "\n",
    "7. Sqft basement  \n",
    "> There is a positive trend, it might add value to the model but shows more scatter compared to sqft living   \n",
    "\n",
    "8. yr Built  \n",
    "> The relationship is not very clear, prices do not increase consistently with the yr built.   \n",
    "\n",
    "9. Lat and long  \n",
    "> Both plots show some clustering, indicating geographic location influences price.  \n",
    "\n",
    "\n",
    "Based on the plots sqft_living, sqft_above, bathrooms, and `sqft_basement show stronger relationships with price, although Latitude and longitude also seem important due to location effects."
   ]
  },
  {
   "cell_type": "code",
   "execution_count": 195,
   "metadata": {},
   "outputs": [
    {
     "data": {
      "text/html": [
       "<div>\n",
       "<style scoped>\n",
       "    .dataframe tbody tr th:only-of-type {\n",
       "        vertical-align: middle;\n",
       "    }\n",
       "\n",
       "    .dataframe tbody tr th {\n",
       "        vertical-align: top;\n",
       "    }\n",
       "\n",
       "    .dataframe thead th {\n",
       "        text-align: right;\n",
       "    }\n",
       "</style>\n",
       "<table border=\"1\" class=\"dataframe\">\n",
       "  <thead>\n",
       "    <tr style=\"text-align: right;\">\n",
       "      <th></th>\n",
       "      <th>price</th>\n",
       "      <th>bedrooms</th>\n",
       "      <th>bathrooms</th>\n",
       "      <th>sqft_living</th>\n",
       "      <th>sqft_lot</th>\n",
       "      <th>floors</th>\n",
       "      <th>sqft_above</th>\n",
       "      <th>sqft_basement</th>\n",
       "      <th>yr_built</th>\n",
       "      <th>lat</th>\n",
       "      <th>long</th>\n",
       "    </tr>\n",
       "  </thead>\n",
       "  <tbody>\n",
       "    <tr>\n",
       "      <th>price</th>\n",
       "      <td>1.000000</td>\n",
       "      <td>0.315954</td>\n",
       "      <td>0.525906</td>\n",
       "      <td>0.701917</td>\n",
       "      <td>0.089876</td>\n",
       "      <td>0.256804</td>\n",
       "      <td>0.605368</td>\n",
       "      <td>0.325008</td>\n",
       "      <td>0.053953</td>\n",
       "      <td>0.306692</td>\n",
       "      <td>0.022036</td>\n",
       "    </tr>\n",
       "    <tr>\n",
       "      <th>bedrooms</th>\n",
       "      <td>0.315954</td>\n",
       "      <td>1.000000</td>\n",
       "      <td>0.527874</td>\n",
       "      <td>0.593182</td>\n",
       "      <td>0.033606</td>\n",
       "      <td>0.183721</td>\n",
       "      <td>0.492549</td>\n",
       "      <td>0.309281</td>\n",
       "      <td>0.160748</td>\n",
       "      <td>-0.011612</td>\n",
       "      <td>0.136574</td>\n",
       "    </tr>\n",
       "    <tr>\n",
       "      <th>bathrooms</th>\n",
       "      <td>0.525906</td>\n",
       "      <td>0.527874</td>\n",
       "      <td>1.000000</td>\n",
       "      <td>0.755758</td>\n",
       "      <td>0.088373</td>\n",
       "      <td>0.502582</td>\n",
       "      <td>0.686668</td>\n",
       "      <td>0.282693</td>\n",
       "      <td>0.507173</td>\n",
       "      <td>0.024280</td>\n",
       "      <td>0.224903</td>\n",
       "    </tr>\n",
       "    <tr>\n",
       "      <th>sqft_living</th>\n",
       "      <td>0.701917</td>\n",
       "      <td>0.593182</td>\n",
       "      <td>0.755758</td>\n",
       "      <td>1.000000</td>\n",
       "      <td>0.173453</td>\n",
       "      <td>0.353953</td>\n",
       "      <td>0.876448</td>\n",
       "      <td>0.434576</td>\n",
       "      <td>0.318152</td>\n",
       "      <td>0.052155</td>\n",
       "      <td>0.241214</td>\n",
       "    </tr>\n",
       "    <tr>\n",
       "      <th>sqft_lot</th>\n",
       "      <td>0.089876</td>\n",
       "      <td>0.033606</td>\n",
       "      <td>0.088373</td>\n",
       "      <td>0.173453</td>\n",
       "      <td>1.000000</td>\n",
       "      <td>-0.004814</td>\n",
       "      <td>0.184139</td>\n",
       "      <td>0.015533</td>\n",
       "      <td>0.052946</td>\n",
       "      <td>-0.085514</td>\n",
       "      <td>0.230227</td>\n",
       "    </tr>\n",
       "    <tr>\n",
       "      <th>floors</th>\n",
       "      <td>0.256804</td>\n",
       "      <td>0.183721</td>\n",
       "      <td>0.502582</td>\n",
       "      <td>0.353953</td>\n",
       "      <td>-0.004814</td>\n",
       "      <td>1.000000</td>\n",
       "      <td>0.523989</td>\n",
       "      <td>-0.245144</td>\n",
       "      <td>0.489193</td>\n",
       "      <td>0.049239</td>\n",
       "      <td>0.125943</td>\n",
       "    </tr>\n",
       "    <tr>\n",
       "      <th>sqft_above</th>\n",
       "      <td>0.605368</td>\n",
       "      <td>0.492549</td>\n",
       "      <td>0.686668</td>\n",
       "      <td>0.876448</td>\n",
       "      <td>0.184139</td>\n",
       "      <td>0.523989</td>\n",
       "      <td>1.000000</td>\n",
       "      <td>-0.052293</td>\n",
       "      <td>0.424037</td>\n",
       "      <td>-0.001199</td>\n",
       "      <td>0.344842</td>\n",
       "    </tr>\n",
       "    <tr>\n",
       "      <th>sqft_basement</th>\n",
       "      <td>0.325008</td>\n",
       "      <td>0.309281</td>\n",
       "      <td>0.282693</td>\n",
       "      <td>0.434576</td>\n",
       "      <td>0.015533</td>\n",
       "      <td>-0.245144</td>\n",
       "      <td>-0.052293</td>\n",
       "      <td>1.000000</td>\n",
       "      <td>-0.132844</td>\n",
       "      <td>0.110637</td>\n",
       "      <td>-0.145174</td>\n",
       "    </tr>\n",
       "    <tr>\n",
       "      <th>yr_built</th>\n",
       "      <td>0.053953</td>\n",
       "      <td>0.160748</td>\n",
       "      <td>0.507173</td>\n",
       "      <td>0.318152</td>\n",
       "      <td>0.052946</td>\n",
       "      <td>0.489193</td>\n",
       "      <td>0.424037</td>\n",
       "      <td>-0.132844</td>\n",
       "      <td>1.000000</td>\n",
       "      <td>-0.148370</td>\n",
       "      <td>0.409993</td>\n",
       "    </tr>\n",
       "    <tr>\n",
       "      <th>lat</th>\n",
       "      <td>0.306692</td>\n",
       "      <td>-0.011612</td>\n",
       "      <td>0.024280</td>\n",
       "      <td>0.052155</td>\n",
       "      <td>-0.085514</td>\n",
       "      <td>0.049239</td>\n",
       "      <td>-0.001199</td>\n",
       "      <td>0.110637</td>\n",
       "      <td>-0.148370</td>\n",
       "      <td>1.000000</td>\n",
       "      <td>-0.135371</td>\n",
       "    </tr>\n",
       "    <tr>\n",
       "      <th>long</th>\n",
       "      <td>0.022036</td>\n",
       "      <td>0.136574</td>\n",
       "      <td>0.224903</td>\n",
       "      <td>0.241214</td>\n",
       "      <td>0.230227</td>\n",
       "      <td>0.125943</td>\n",
       "      <td>0.344842</td>\n",
       "      <td>-0.145174</td>\n",
       "      <td>0.409993</td>\n",
       "      <td>-0.135371</td>\n",
       "      <td>1.000000</td>\n",
       "    </tr>\n",
       "  </tbody>\n",
       "</table>\n",
       "</div>"
      ],
      "text/plain": [
       "                  price  bedrooms  bathrooms  sqft_living  sqft_lot    floors  \\\n",
       "price          1.000000  0.315954   0.525906     0.701917  0.089876  0.256804   \n",
       "bedrooms       0.315954  1.000000   0.527874     0.593182  0.033606  0.183721   \n",
       "bathrooms      0.525906  0.527874   1.000000     0.755758  0.088373  0.502582   \n",
       "sqft_living    0.701917  0.593182   0.755758     1.000000  0.173453  0.353953   \n",
       "sqft_lot       0.089876  0.033606   0.088373     0.173453  1.000000 -0.004814   \n",
       "floors         0.256804  0.183721   0.502582     0.353953 -0.004814  1.000000   \n",
       "sqft_above     0.605368  0.492549   0.686668     0.876448  0.184139  0.523989   \n",
       "sqft_basement  0.325008  0.309281   0.282693     0.434576  0.015533 -0.245144   \n",
       "yr_built       0.053953  0.160748   0.507173     0.318152  0.052946  0.489193   \n",
       "lat            0.306692 -0.011612   0.024280     0.052155 -0.085514  0.049239   \n",
       "long           0.022036  0.136574   0.224903     0.241214  0.230227  0.125943   \n",
       "\n",
       "               sqft_above  sqft_basement  yr_built       lat      long  \n",
       "price            0.605368       0.325008  0.053953  0.306692  0.022036  \n",
       "bedrooms         0.492549       0.309281  0.160748 -0.011612  0.136574  \n",
       "bathrooms        0.686668       0.282693  0.507173  0.024280  0.224903  \n",
       "sqft_living      0.876448       0.434576  0.318152  0.052155  0.241214  \n",
       "sqft_lot         0.184139       0.015533  0.052946 -0.085514  0.230227  \n",
       "floors           0.523989      -0.245144  0.489193  0.049239  0.125943  \n",
       "sqft_above       1.000000      -0.052293  0.424037 -0.001199  0.344842  \n",
       "sqft_basement   -0.052293       1.000000 -0.132844  0.110637 -0.145174  \n",
       "yr_built         0.424037      -0.132844  1.000000 -0.148370  0.409993  \n",
       "lat             -0.001199       0.110637 -0.148370  1.000000 -0.135371  \n",
       "long             0.344842      -0.145174  0.409993 -0.135371  1.000000  "
      ]
     },
     "execution_count": 195,
     "metadata": {},
     "output_type": "execute_result"
    }
   ],
   "source": [
    "df_subset.corr()"
   ]
  },
  {
   "cell_type": "code",
   "execution_count": 196,
   "metadata": {},
   "outputs": [
    {
     "data": {
      "text/html": [
       "<div>\n",
       "<style scoped>\n",
       "    .dataframe tbody tr th:only-of-type {\n",
       "        vertical-align: middle;\n",
       "    }\n",
       "\n",
       "    .dataframe tbody tr th {\n",
       "        vertical-align: top;\n",
       "    }\n",
       "\n",
       "    .dataframe thead th {\n",
       "        text-align: right;\n",
       "    }\n",
       "</style>\n",
       "<table border=\"1\" class=\"dataframe\">\n",
       "  <thead>\n",
       "    <tr style=\"text-align: right;\">\n",
       "      <th></th>\n",
       "      <th>price</th>\n",
       "      <th>bedrooms</th>\n",
       "      <th>bathrooms</th>\n",
       "      <th>sqft_living</th>\n",
       "      <th>sqft_lot</th>\n",
       "      <th>floors</th>\n",
       "      <th>sqft_above</th>\n",
       "      <th>sqft_basement</th>\n",
       "      <th>yr_built</th>\n",
       "      <th>lat</th>\n",
       "      <th>long</th>\n",
       "    </tr>\n",
       "  </thead>\n",
       "  <tbody>\n",
       "    <tr>\n",
       "      <th>price</th>\n",
       "      <td>True</td>\n",
       "      <td>False</td>\n",
       "      <td>True</td>\n",
       "      <td>True</td>\n",
       "      <td>False</td>\n",
       "      <td>False</td>\n",
       "      <td>True</td>\n",
       "      <td>False</td>\n",
       "      <td>False</td>\n",
       "      <td>False</td>\n",
       "      <td>False</td>\n",
       "    </tr>\n",
       "    <tr>\n",
       "      <th>bedrooms</th>\n",
       "      <td>False</td>\n",
       "      <td>True</td>\n",
       "      <td>True</td>\n",
       "      <td>True</td>\n",
       "      <td>False</td>\n",
       "      <td>False</td>\n",
       "      <td>True</td>\n",
       "      <td>False</td>\n",
       "      <td>False</td>\n",
       "      <td>False</td>\n",
       "      <td>False</td>\n",
       "    </tr>\n",
       "    <tr>\n",
       "      <th>bathrooms</th>\n",
       "      <td>True</td>\n",
       "      <td>True</td>\n",
       "      <td>True</td>\n",
       "      <td>True</td>\n",
       "      <td>False</td>\n",
       "      <td>True</td>\n",
       "      <td>True</td>\n",
       "      <td>False</td>\n",
       "      <td>True</td>\n",
       "      <td>False</td>\n",
       "      <td>False</td>\n",
       "    </tr>\n",
       "    <tr>\n",
       "      <th>sqft_living</th>\n",
       "      <td>True</td>\n",
       "      <td>True</td>\n",
       "      <td>True</td>\n",
       "      <td>True</td>\n",
       "      <td>False</td>\n",
       "      <td>True</td>\n",
       "      <td>True</td>\n",
       "      <td>True</td>\n",
       "      <td>False</td>\n",
       "      <td>False</td>\n",
       "      <td>False</td>\n",
       "    </tr>\n",
       "    <tr>\n",
       "      <th>sqft_lot</th>\n",
       "      <td>False</td>\n",
       "      <td>False</td>\n",
       "      <td>False</td>\n",
       "      <td>False</td>\n",
       "      <td>True</td>\n",
       "      <td>False</td>\n",
       "      <td>False</td>\n",
       "      <td>False</td>\n",
       "      <td>False</td>\n",
       "      <td>False</td>\n",
       "      <td>False</td>\n",
       "    </tr>\n",
       "    <tr>\n",
       "      <th>floors</th>\n",
       "      <td>False</td>\n",
       "      <td>False</td>\n",
       "      <td>True</td>\n",
       "      <td>True</td>\n",
       "      <td>False</td>\n",
       "      <td>True</td>\n",
       "      <td>True</td>\n",
       "      <td>False</td>\n",
       "      <td>True</td>\n",
       "      <td>False</td>\n",
       "      <td>False</td>\n",
       "    </tr>\n",
       "    <tr>\n",
       "      <th>sqft_above</th>\n",
       "      <td>True</td>\n",
       "      <td>True</td>\n",
       "      <td>True</td>\n",
       "      <td>True</td>\n",
       "      <td>False</td>\n",
       "      <td>True</td>\n",
       "      <td>True</td>\n",
       "      <td>False</td>\n",
       "      <td>True</td>\n",
       "      <td>False</td>\n",
       "      <td>False</td>\n",
       "    </tr>\n",
       "    <tr>\n",
       "      <th>sqft_basement</th>\n",
       "      <td>False</td>\n",
       "      <td>False</td>\n",
       "      <td>False</td>\n",
       "      <td>True</td>\n",
       "      <td>False</td>\n",
       "      <td>False</td>\n",
       "      <td>False</td>\n",
       "      <td>True</td>\n",
       "      <td>False</td>\n",
       "      <td>False</td>\n",
       "      <td>False</td>\n",
       "    </tr>\n",
       "    <tr>\n",
       "      <th>yr_built</th>\n",
       "      <td>False</td>\n",
       "      <td>False</td>\n",
       "      <td>True</td>\n",
       "      <td>False</td>\n",
       "      <td>False</td>\n",
       "      <td>True</td>\n",
       "      <td>True</td>\n",
       "      <td>False</td>\n",
       "      <td>True</td>\n",
       "      <td>False</td>\n",
       "      <td>True</td>\n",
       "    </tr>\n",
       "    <tr>\n",
       "      <th>lat</th>\n",
       "      <td>False</td>\n",
       "      <td>False</td>\n",
       "      <td>False</td>\n",
       "      <td>False</td>\n",
       "      <td>False</td>\n",
       "      <td>False</td>\n",
       "      <td>False</td>\n",
       "      <td>False</td>\n",
       "      <td>False</td>\n",
       "      <td>True</td>\n",
       "      <td>False</td>\n",
       "    </tr>\n",
       "    <tr>\n",
       "      <th>long</th>\n",
       "      <td>False</td>\n",
       "      <td>False</td>\n",
       "      <td>False</td>\n",
       "      <td>False</td>\n",
       "      <td>False</td>\n",
       "      <td>False</td>\n",
       "      <td>False</td>\n",
       "      <td>False</td>\n",
       "      <td>True</td>\n",
       "      <td>False</td>\n",
       "      <td>True</td>\n",
       "    </tr>\n",
       "  </tbody>\n",
       "</table>\n",
       "</div>"
      ],
      "text/plain": [
       "               price  bedrooms  bathrooms  sqft_living  sqft_lot  floors  \\\n",
       "price           True     False       True         True     False   False   \n",
       "bedrooms       False      True       True         True     False   False   \n",
       "bathrooms       True      True       True         True     False    True   \n",
       "sqft_living     True      True       True         True     False    True   \n",
       "sqft_lot       False     False      False        False      True   False   \n",
       "floors         False     False       True         True     False    True   \n",
       "sqft_above      True      True       True         True     False    True   \n",
       "sqft_basement  False     False      False         True     False   False   \n",
       "yr_built       False     False       True        False     False    True   \n",
       "lat            False     False      False        False     False   False   \n",
       "long           False     False      False        False     False   False   \n",
       "\n",
       "               sqft_above  sqft_basement  yr_built    lat   long  \n",
       "price                True          False     False  False  False  \n",
       "bedrooms             True          False     False  False  False  \n",
       "bathrooms            True          False      True  False  False  \n",
       "sqft_living          True           True     False  False  False  \n",
       "sqft_lot            False          False     False  False  False  \n",
       "floors               True          False      True  False  False  \n",
       "sqft_above           True          False      True  False  False  \n",
       "sqft_basement       False           True     False  False  False  \n",
       "yr_built             True          False      True  False   True  \n",
       "lat                 False          False     False   True  False  \n",
       "long                False          False      True  False   True  "
      ]
     },
     "execution_count": 196,
     "metadata": {},
     "output_type": "execute_result"
    }
   ],
   "source": [
    "abs(df_subset.corr()) > 0.35"
   ]
  },
  {
   "cell_type": "code",
   "execution_count": 197,
   "metadata": {},
   "outputs": [
    {
     "data": {
      "image/png": "[encoded data removed]",
      "text/plain": [
       "<Figure size 640x480 with 2 Axes>"
      ]
     },
     "metadata": {},
     "output_type": "display_data"
    }
   ],
   "source": [
    "sns.heatmap(df_subset.corr(),cmap='coolwarm',center=0);"
   ]
  },
  {
   "cell_type": "code",
   "execution_count": 198,
   "metadata": {},
   "outputs": [
    {
     "name": "stdout",
     "output_type": "stream",
     "text": [
      "               id        date     price  bedrooms  bathrooms  sqft_living  \\\n",
      "0      7129300520  10/13/2014  221900.0         3       1.00         1180   \n",
      "1      6414100192   12/9/2014  538000.0         3       2.25         2570   \n",
      "2      5631500400   2/25/2015  180000.0         2       1.00          770   \n",
      "3      2487200875   12/9/2014  604000.0         4       3.00         1960   \n",
      "4      1954400510   2/18/2015  510000.0         3       2.00         1680   \n",
      "...           ...         ...       ...       ...        ...          ...   \n",
      "21592   263000018   5/21/2014  360000.0         3       2.50         1530   \n",
      "21593  6600060120   2/23/2015  400000.0         4       2.50         2310   \n",
      "21594  1523300141   6/23/2014  402101.0         2       0.75         1020   \n",
      "21595   291310100   1/16/2015  400000.0         3       2.50         1600   \n",
      "21596  1523300157  10/15/2014  325000.0         2       0.75         1020   \n",
      "\n",
      "       floors  waterfront  condition  grade  yr_built  zipcode  sqft_living15  \\\n",
      "0         1.0         0.0          3      7      1955    98178           1340   \n",
      "1         2.0         0.0          3      7      1951    98125           1690   \n",
      "2         1.0         0.0          3      6      1933    98028           2720   \n",
      "3         1.0         0.0          5      7      1965    98136           1360   \n",
      "4         1.0         0.0          3      8      1987    98074           1800   \n",
      "...       ...         ...        ...    ...       ...      ...            ...   \n",
      "21592     3.0         0.0          3      8      2009    98103           1530   \n",
      "21593     2.0         0.0          3      8      2014    98146           1830   \n",
      "21594     2.0         0.0          3      7      2009    98144           1020   \n",
      "21595     2.0         0.0          3      8      2004    98027           1410   \n",
      "21596     2.0         0.0          3      7      2008    98144           1020   \n",
      "\n",
      "       sqft_lot15  has_basement  log_sqft_basement basement_size_category  \n",
      "0            5650             0           0.000000            No_basement  \n",
      "1            7639             1           5.993961            No_basement  \n",
      "2            8062             0           0.000000            No_basement  \n",
      "3            5000             1           6.814543                  small  \n",
      "4            7503             0           0.000000            No_basement  \n",
      "...           ...           ...                ...                    ...  \n",
      "21592        1509             0           0.000000            No_basement  \n",
      "21593        7200             0           0.000000            No_basement  \n",
      "21594        2007             0           0.000000            No_basement  \n",
      "21595        1287             0           0.000000            No_basement  \n",
      "21596        1357             0           0.000000            No_basement  \n",
      "\n",
      "[21597 rows x 17 columns]\n"
     ]
    }
   ],
   "source": [
    "df_dropped= df.drop(['lat','long','sqft_lot','sqft_above','sqft_basement'],axis=1)\n",
    "print(df_dropped)"
   ]
  },
  {
   "cell_type": "code",
   "execution_count": 199,
   "metadata": {},
   "outputs": [
    {
     "data": {
      "text/plain": [
       "Index(['id', 'date', 'price', 'bedrooms', 'bathrooms', 'sqft_living', 'floors',\n",
       "       'waterfront', 'condition', 'grade', 'yr_built', 'zipcode',\n",
       "       'sqft_living15', 'sqft_lot15', 'has_basement', 'log_sqft_basement',\n",
       "       'basement_size_category'],\n",
       "      dtype='object')"
      ]
     },
     "execution_count": 199,
     "metadata": {},
     "output_type": "execute_result"
    }
   ],
   "source": [
    "df_dropped.columns"
   ]
  },
  {
   "cell_type": "code",
   "execution_count": 200,
   "metadata": {},
   "outputs": [
    {
     "data": {
      "text/html": [
       "<div>\n",
       "<style scoped>\n",
       "    .dataframe tbody tr th:only-of-type {\n",
       "        vertical-align: middle;\n",
       "    }\n",
       "\n",
       "    .dataframe tbody tr th {\n",
       "        vertical-align: top;\n",
       "    }\n",
       "\n",
       "    .dataframe thead th {\n",
       "        text-align: right;\n",
       "    }\n",
       "</style>\n",
       "<table border=\"1\" class=\"dataframe\">\n",
       "  <thead>\n",
       "    <tr style=\"text-align: right;\">\n",
       "      <th></th>\n",
       "      <th>sqft_living</th>\n",
       "      <th>bathrooms</th>\n",
       "      <th>floors</th>\n",
       "      <th>price</th>\n",
       "    </tr>\n",
       "  </thead>\n",
       "  <tbody>\n",
       "    <tr>\n",
       "      <th>sqft_living</th>\n",
       "      <td>1.000000</td>\n",
       "      <td>0.755758</td>\n",
       "      <td>0.353953</td>\n",
       "      <td>0.701917</td>\n",
       "    </tr>\n",
       "    <tr>\n",
       "      <th>bathrooms</th>\n",
       "      <td>0.755758</td>\n",
       "      <td>1.000000</td>\n",
       "      <td>0.502582</td>\n",
       "      <td>0.525906</td>\n",
       "    </tr>\n",
       "    <tr>\n",
       "      <th>floors</th>\n",
       "      <td>0.353953</td>\n",
       "      <td>0.502582</td>\n",
       "      <td>1.000000</td>\n",
       "      <td>0.256804</td>\n",
       "    </tr>\n",
       "    <tr>\n",
       "      <th>price</th>\n",
       "      <td>0.701917</td>\n",
       "      <td>0.525906</td>\n",
       "      <td>0.256804</td>\n",
       "      <td>1.000000</td>\n",
       "    </tr>\n",
       "  </tbody>\n",
       "</table>\n",
       "</div>"
      ],
      "text/plain": [
       "             sqft_living  bathrooms    floors     price\n",
       "sqft_living     1.000000   0.755758  0.353953  0.701917\n",
       "bathrooms       0.755758   1.000000  0.502582  0.525906\n",
       "floors          0.353953   0.502582  1.000000  0.256804\n",
       "price           0.701917   0.525906  0.256804  1.000000"
      ]
     },
     "execution_count": 200,
     "metadata": {},
     "output_type": "execute_result"
    }
   ],
   "source": [
    "numerical_vals =['sqft_living','bathrooms','floors','price']\n",
    "df_numerical  = df_subset[numerical_vals]\n",
    "df_numerical.corr()"
   ]
  },
  {
   "cell_type": "code",
   "execution_count": 201,
   "metadata": {},
   "outputs": [
    {
     "name": "stderr",
     "output_type": "stream",
     "text": [
      "c:\\Users\\pc\\anaconda3\\Lib\\site-packages\\seaborn\\_oldcore.py:1119: FutureWarning: use_inf_as_na option is deprecated and will be removed in a future version. Convert inf values to NaN before operating instead.\n",
      "  with pd.option_context('mode.use_inf_as_na', True):\n",
      "c:\\Users\\pc\\anaconda3\\Lib\\site-packages\\seaborn\\_oldcore.py:1119: FutureWarning: use_inf_as_na option is deprecated and will be removed in a future version. Convert inf values to NaN before operating instead.\n",
      "  with pd.option_context('mode.use_inf_as_na', True):\n",
      "c:\\Users\\pc\\anaconda3\\Lib\\site-packages\\seaborn\\_oldcore.py:1119: FutureWarning: use_inf_as_na option is deprecated and will be removed in a future version. Convert inf values to NaN before operating instead.\n",
      "  with pd.option_context('mode.use_inf_as_na', True):\n",
      "c:\\Users\\pc\\anaconda3\\Lib\\site-packages\\seaborn\\_oldcore.py:1119: FutureWarning: use_inf_as_na option is deprecated and will be removed in a future version. Convert inf values to NaN before operating instead.\n",
      "  with pd.option_context('mode.use_inf_as_na', True):\n"
     ]
    },
    {
     "data": {
      "text/plain": [
       "<seaborn.axisgrid.PairGrid at 0x2944669df90>"
      ]
     },
     "execution_count": 201,
     "metadata": {},
     "output_type": "execute_result"
    },
    {
     "data": {
      "image/png": "[encoded data removed]",
      "text/plain": [
       "<Figure size 1000x1000 with 20 Axes>"
      ]
     },
     "metadata": {},
     "output_type": "display_data"
    }
   ],
   "source": [
    "sns.pairplot(df_numerical)"
   ]
  },
  {
   "cell_type": "code",
   "execution_count": 202,
   "metadata": {},
   "outputs": [
    {
     "data": {
      "image/png": "[encoded data removed]",
      "text/plain": [
       "<Figure size 1000x600 with 1 Axes>"
      ]
     },
     "metadata": {},
     "output_type": "display_data"
    }
   ],
   "source": [
    "plt.figure(figsize=(10, 6))\n",
    "sns.boxplot(data=df_numerical)\n",
    "plt.title('Box plots of Selected Columns')\n",
    "plt.xlabel('Features')\n",
    "plt.ylabel('Values')\n",
    "plt.xticks(rotation=45)\n",
    "plt.show()"
   ]
  },
  {
   "cell_type": "markdown",
   "metadata": {},
   "source": [
    "model 1"
   ]
  },
  {
   "cell_type": "code",
   "execution_count": 203,
   "metadata": {},
   "outputs": [
    {
     "data": {
      "text/html": [
       "<div>\n",
       "<style scoped>\n",
       "    .dataframe tbody tr th:only-of-type {\n",
       "        vertical-align: middle;\n",
       "    }\n",
       "\n",
       "    .dataframe tbody tr th {\n",
       "        vertical-align: top;\n",
       "    }\n",
       "\n",
       "    .dataframe thead th {\n",
       "        text-align: right;\n",
       "    }\n",
       "</style>\n",
       "<table border=\"1\" class=\"dataframe\">\n",
       "  <thead>\n",
       "    <tr style=\"text-align: right;\">\n",
       "      <th></th>\n",
       "      <th>sqft_living</th>\n",
       "      <th>bathrooms</th>\n",
       "      <th>floors</th>\n",
       "      <th>price</th>\n",
       "    </tr>\n",
       "  </thead>\n",
       "  <tbody>\n",
       "    <tr>\n",
       "      <th>0</th>\n",
       "      <td>1180</td>\n",
       "      <td>1.00</td>\n",
       "      <td>1.0</td>\n",
       "      <td>221900.0</td>\n",
       "    </tr>\n",
       "    <tr>\n",
       "      <th>1</th>\n",
       "      <td>2570</td>\n",
       "      <td>2.25</td>\n",
       "      <td>2.0</td>\n",
       "      <td>538000.0</td>\n",
       "    </tr>\n",
       "    <tr>\n",
       "      <th>2</th>\n",
       "      <td>770</td>\n",
       "      <td>1.00</td>\n",
       "      <td>1.0</td>\n",
       "      <td>180000.0</td>\n",
       "    </tr>\n",
       "    <tr>\n",
       "      <th>3</th>\n",
       "      <td>1960</td>\n",
       "      <td>3.00</td>\n",
       "      <td>1.0</td>\n",
       "      <td>604000.0</td>\n",
       "    </tr>\n",
       "    <tr>\n",
       "      <th>4</th>\n",
       "      <td>1680</td>\n",
       "      <td>2.00</td>\n",
       "      <td>1.0</td>\n",
       "      <td>510000.0</td>\n",
       "    </tr>\n",
       "  </tbody>\n",
       "</table>\n",
       "</div>"
      ],
      "text/plain": [
       "   sqft_living  bathrooms  floors     price\n",
       "0         1180       1.00     1.0  221900.0\n",
       "1         2570       2.25     2.0  538000.0\n",
       "2          770       1.00     1.0  180000.0\n",
       "3         1960       3.00     1.0  604000.0\n",
       "4         1680       2.00     1.0  510000.0"
      ]
     },
     "execution_count": 203,
     "metadata": {},
     "output_type": "execute_result"
    }
   ],
   "source": [
    "x =df_numerical\n",
    "x.head()\n"
   ]
  },
  {
   "cell_type": "code",
   "execution_count": 204,
   "metadata": {},
   "outputs": [
    {
     "data": {
      "text/plain": [
       "0        221900.0\n",
       "1        538000.0\n",
       "2        180000.0\n",
       "3        604000.0\n",
       "4        510000.0\n",
       "           ...   \n",
       "21592    360000.0\n",
       "21593    400000.0\n",
       "21594    402101.0\n",
       "21595    400000.0\n",
       "21596    325000.0\n",
       "Name: price, Length: 21597, dtype: float64"
      ]
     },
     "execution_count": 204,
     "metadata": {},
     "output_type": "execute_result"
    }
   ],
   "source": [
    "y = df_numerical.price\n",
    "y"
   ]
  },
  {
   "cell_type": "code",
   "execution_count": 205,
   "metadata": {},
   "outputs": [],
   "source": [
    "x_train,x_test,y_train,y_test = train_test_split(x,y,test_size=0.2,random_state=42)"
   ]
  },
  {
   "cell_type": "code",
   "execution_count": 206,
   "metadata": {},
   "outputs": [],
   "source": [
    "scaler = StandardScaler()\n",
    "x_train_scaled = scaler.fit_transform(x_train)\n",
    "x_test_scaled = scaler.fit_transform(x_test)"
   ]
  },
  {
   "cell_type": "code",
   "execution_count": 207,
   "metadata": {},
   "outputs": [],
   "source": [
    "model = LinearRegression()"
   ]
  },
  {
   "cell_type": "code",
   "execution_count": 208,
   "metadata": {},
   "outputs": [
    {
     "data": {
      "text/html": [
       "<style>#sk-container-id-3 {color: black;background-color: white;}#sk-container-id-3 pre{padding: 0;}#sk-container-id-3 div.sk-toggleable {background-color: white;}#sk-container-id-3 label.sk-toggleable__label {cursor: pointer;display: block;width: 100%;margin-bottom: 0;padding: 0.3em;box-sizing: border-box;text-align: center;}#sk-container-id-3 label.sk-toggleable__label-arrow:before {content: \"▸\";float: left;margin-right: 0.25em;color: #696969;}#sk-container-id-3 label.sk-toggleable__label-arrow:hover:before {color: black;}#sk-container-id-3 div.sk-estimator:hover label.sk-toggleable__label-arrow:before {color: black;}#sk-container-id-3 div.sk-toggleable__content {max-height: 0;max-width: 0;overflow: hidden;text-align: left;background-color: #f0f8ff;}#sk-container-id-3 div.sk-toggleable__content pre {margin: 0.2em;color: black;border-radius: 0.25em;background-color: #f0f8ff;}#sk-container-id-3 input.sk-toggleable__control:checked~div.sk-toggleable__content {max-height: 200px;max-width: 100%;overflow: auto;}#sk-container-id-3 input.sk-toggleable__control:checked~label.sk-toggleable__label-arrow:before {content: \"▾\";}#sk-container-id-3 div.sk-estimator input.sk-toggleable__control:checked~label.sk-toggleable__label {background-color: #d4ebff;}#sk-container-id-3 div.sk-label input.sk-toggleable__control:checked~label.sk-toggleable__label {background-color: #d4ebff;}#sk-container-id-3 input.sk-hidden--visually {border: 0;clip: rect(1px 1px 1px 1px);clip: rect(1px, 1px, 1px, 1px);height: 1px;margin: -1px;overflow: hidden;padding: 0;position: absolute;width: 1px;}#sk-container-id-3 div.sk-estimator {font-family: monospace;background-color: #f0f8ff;border: 1px dotted black;border-radius: 0.25em;box-sizing: border-box;margin-bottom: 0.5em;}#sk-container-id-3 div.sk-estimator:hover {background-color: #d4ebff;}#sk-container-id-3 div.sk-parallel-item::after {content: \"\";width: 100%;border-bottom: 1px solid gray;flex-grow: 1;}#sk-container-id-3 div.sk-label:hover label.sk-toggleable__label {background-color: #d4ebff;}#sk-container-id-3 div.sk-serial::before {content: \"\";position: absolute;border-left: 1px solid gray;box-sizing: border-box;top: 0;bottom: 0;left: 50%;z-index: 0;}#sk-container-id-3 div.sk-serial {display: flex;flex-direction: column;align-items: center;background-color: white;padding-right: 0.2em;padding-left: 0.2em;position: relative;}#sk-container-id-3 div.sk-item {position: relative;z-index: 1;}#sk-container-id-3 div.sk-parallel {display: flex;align-items: stretch;justify-content: center;background-color: white;position: relative;}#sk-container-id-3 div.sk-item::before, #sk-container-id-3 div.sk-parallel-item::before {content: \"\";position: absolute;border-left: 1px solid gray;box-sizing: border-box;top: 0;bottom: 0;left: 50%;z-index: -1;}#sk-container-id-3 div.sk-parallel-item {display: flex;flex-direction: column;z-index: 1;position: relative;background-color: white;}#sk-container-id-3 div.sk-parallel-item:first-child::after {align-self: flex-end;width: 50%;}#sk-container-id-3 div.sk-parallel-item:last-child::after {align-self: flex-start;width: 50%;}#sk-container-id-3 div.sk-parallel-item:only-child::after {width: 0;}#sk-container-id-3 div.sk-dashed-wrapped {border: 1px dashed gray;margin: 0 0.4em 0.5em 0.4em;box-sizing: border-box;padding-bottom: 0.4em;background-color: white;}#sk-container-id-3 div.sk-label label {font-family: monospace;font-weight: bold;display: inline-block;line-height: 1.2em;}#sk-container-id-3 div.sk-label-container {text-align: center;}#sk-container-id-3 div.sk-container {/* jupyter's `normalize.less` sets `[hidden] { display: none; }` but bootstrap.min.css set `[hidden] { display: none !important; }` so we also need the `!important` here to be able to override the default hidden behavior on the sphinx rendered scikit-learn.org. See: https://github.com/scikit-learn/scikit-learn/issues/21755 */display: inline-block !important;position: relative;}#sk-container-id-3 div.sk-text-repr-fallback {display: none;}</style><div id=\"sk-container-id-3\" class=\"sk-top-container\"><div class=\"sk-text-repr-fallback\"><pre>LinearRegression()</pre><b>In a Jupyter environment, please rerun this cell to show the HTML representation or trust the notebook. <br />On GitHub, the HTML representation is unable to render, please try loading this page with nbviewer.org.</b></div><div class=\"sk-container\" hidden><div class=\"sk-item\"><div class=\"sk-estimator sk-toggleable\"><input class=\"sk-toggleable__control sk-hidden--visually\" id=\"sk-estimator-id-3\" type=\"checkbox\" checked><label for=\"sk-estimator-id-3\" class=\"sk-toggleable__label sk-toggleable__label-arrow\">LinearRegression</label><div class=\"sk-toggleable__content\"><pre>LinearRegression()</pre></div></div></div></div></div>"
      ],
      "text/plain": [
       "LinearRegression()"
      ]
     },
     "execution_count": 208,
     "metadata": {},
     "output_type": "execute_result"
    }
   ],
   "source": [
    "model.fit(x_train_scaled,y_train)"
   ]
  },
  {
   "cell_type": "code",
   "execution_count": 209,
   "metadata": {},
   "outputs": [
    {
     "data": {
      "text/plain": [
       "(6390.091122781496, 103008902.73067027)"
      ]
     },
     "execution_count": 209,
     "metadata": {},
     "output_type": "execute_result"
    }
   ],
   "source": [
    "y_pred = model.predict(x_test_scaled)\n",
    "mae = mean_absolute_error(y_test,y_pred)\n",
    "mse = mean_squared_error(y_test,y_pred)\n",
    "mae,mse"
   ]
  },
  {
   "cell_type": "markdown",
   "metadata": {},
   "source": [
    "model 2"
   ]
  },
  {
   "cell_type": "code",
   "execution_count": 210,
   "metadata": {},
   "outputs": [],
   "source": [
    "def linear_regression_model(X, y, test_size=0.2, random_state=42):\n",
    "     \n",
    "\n",
    "  # Split data into training and testing sets\n",
    "  X_train, X_test, y_train, y_test = train_test_split(X, y, test_size=test_size, random_state=random_state)\n",
    "\n",
    "  # Scale features\n",
    "  scaler = StandardScaler()\n",
    "  X_train_scaled = scaler.fit_transform(X_train)\n",
    "  X_test_scaled = scaler.transform(X_test)\n",
    "\n",
    "  # Create and train the model\n",
    "  model = LinearRegression()\n",
    "  model.fit(X_train_scaled, y_train)\n",
    "\n",
    "  # Make predictions\n",
    "  y_pred = model.predict(X_test_scaled)\n",
    "\n",
    "  # Evaluate the model\n",
    "  mse = mean_squared_error(y_test, y_pred)\n",
    "  mae = mean_absolute_error(y_test, y_pred)\n",
    "  r2 = r2_score(y_test, y_pred)\n",
    "\n",
    "  print('model:',model,'mse:', mse, 'mae:',mae, 'r2:',r2)"
   ]
  },
  {
   "cell_type": "code",
   "execution_count": 211,
   "metadata": {},
   "outputs": [
    {
     "name": "stdout",
     "output_type": "stream",
     "text": [
      "model: LinearRegression() mse: 4.937182505796802e-20 mae: 1.3052259520110158e-10 r2: 1.0\n"
     ]
    }
   ],
   "source": [
    "x1 = df_numerical\n",
    "x1 = x1.drop('floors',axis=1)\n",
    "linear_regression_model(x1,y,test_size=0.2,random_state=42)"
   ]
  },
  {
   "cell_type": "markdown",
   "metadata": {},
   "source": [
    "model 3\n"
   ]
  },
  {
   "cell_type": "code",
   "execution_count": 212,
   "metadata": {},
   "outputs": [
    {
     "name": "stderr",
     "output_type": "stream",
     "text": [
      "C:\\Users\\pc\\AppData\\Local\\Temp\\ipykernel_240\\1287332888.py:1: SettingWithCopyWarning: \n",
      "A value is trying to be set on a copy of a slice from a DataFrame.\n",
      "Try using .loc[row_indexer,col_indexer] = value instead\n",
      "\n",
      "See the caveats in the documentation: https://pandas.pydata.org/pandas-docs/stable/user_guide/indexing.html#returning-a-view-versus-a-copy\n",
      "  df_numerical['bathrooms_per_sqft'] =df_numerical['bathrooms']/df['sqft_living']\n"
     ]
    },
    {
     "data": {
      "text/html": [
       "<div>\n",
       "<style scoped>\n",
       "    .dataframe tbody tr th:only-of-type {\n",
       "        vertical-align: middle;\n",
       "    }\n",
       "\n",
       "    .dataframe tbody tr th {\n",
       "        vertical-align: top;\n",
       "    }\n",
       "\n",
       "    .dataframe thead th {\n",
       "        text-align: right;\n",
       "    }\n",
       "</style>\n",
       "<table border=\"1\" class=\"dataframe\">\n",
       "  <thead>\n",
       "    <tr style=\"text-align: right;\">\n",
       "      <th></th>\n",
       "      <th>sqft_living</th>\n",
       "      <th>bathrooms</th>\n",
       "      <th>floors</th>\n",
       "      <th>price</th>\n",
       "      <th>bathrooms_per_sqft</th>\n",
       "    </tr>\n",
       "  </thead>\n",
       "  <tbody>\n",
       "    <tr>\n",
       "      <th>0</th>\n",
       "      <td>1180</td>\n",
       "      <td>1.00</td>\n",
       "      <td>1.0</td>\n",
       "      <td>221900.0</td>\n",
       "      <td>0.000847</td>\n",
       "    </tr>\n",
       "    <tr>\n",
       "      <th>1</th>\n",
       "      <td>2570</td>\n",
       "      <td>2.25</td>\n",
       "      <td>2.0</td>\n",
       "      <td>538000.0</td>\n",
       "      <td>0.000875</td>\n",
       "    </tr>\n",
       "    <tr>\n",
       "      <th>2</th>\n",
       "      <td>770</td>\n",
       "      <td>1.00</td>\n",
       "      <td>1.0</td>\n",
       "      <td>180000.0</td>\n",
       "      <td>0.001299</td>\n",
       "    </tr>\n",
       "    <tr>\n",
       "      <th>3</th>\n",
       "      <td>1960</td>\n",
       "      <td>3.00</td>\n",
       "      <td>1.0</td>\n",
       "      <td>604000.0</td>\n",
       "      <td>0.001531</td>\n",
       "    </tr>\n",
       "    <tr>\n",
       "      <th>4</th>\n",
       "      <td>1680</td>\n",
       "      <td>2.00</td>\n",
       "      <td>1.0</td>\n",
       "      <td>510000.0</td>\n",
       "      <td>0.001190</td>\n",
       "    </tr>\n",
       "  </tbody>\n",
       "</table>\n",
       "</div>"
      ],
      "text/plain": [
       "   sqft_living  bathrooms  floors     price  bathrooms_per_sqft\n",
       "0         1180       1.00     1.0  221900.0            0.000847\n",
       "1         2570       2.25     2.0  538000.0            0.000875\n",
       "2          770       1.00     1.0  180000.0            0.001299\n",
       "3         1960       3.00     1.0  604000.0            0.001531\n",
       "4         1680       2.00     1.0  510000.0            0.001190"
      ]
     },
     "execution_count": 212,
     "metadata": {},
     "output_type": "execute_result"
    }
   ],
   "source": [
    "df_numerical['bathrooms_per_sqft'] =df_numerical['bathrooms']/df['sqft_living']\n",
    "df_numerical.head()"
   ]
  },
  {
   "cell_type": "code",
   "execution_count": 213,
   "metadata": {},
   "outputs": [
    {
     "name": "stdout",
     "output_type": "stream",
     "text": [
      "model: LinearRegression() mse: 120535028841.94647 mae: 222493.38367624558 r2: 0.07434747224406935\n"
     ]
    }
   ],
   "source": [
    "x2 = pd.DataFrame(df_numerical['bathrooms_per_sqft'])\n",
    "linear_regression_model(x2,y,test_size=0.2,random_state=42)"
   ]
  },
  {
   "cell_type": "markdown",
   "metadata": {},
   "source": [
    "model 4"
   ]
  },
  {
   "cell_type": "code",
   "execution_count": 214,
   "metadata": {},
   "outputs": [
    {
     "data": {
      "text/html": [
       "<div>\n",
       "<style scoped>\n",
       "    .dataframe tbody tr th:only-of-type {\n",
       "        vertical-align: middle;\n",
       "    }\n",
       "\n",
       "    .dataframe tbody tr th {\n",
       "        vertical-align: top;\n",
       "    }\n",
       "\n",
       "    .dataframe thead th {\n",
       "        text-align: right;\n",
       "    }\n",
       "</style>\n",
       "<table border=\"1\" class=\"dataframe\">\n",
       "  <thead>\n",
       "    <tr style=\"text-align: right;\">\n",
       "      <th></th>\n",
       "      <th>date</th>\n",
       "    </tr>\n",
       "  </thead>\n",
       "  <tbody>\n",
       "    <tr>\n",
       "      <th>0</th>\n",
       "      <td>10/13/2014</td>\n",
       "    </tr>\n",
       "    <tr>\n",
       "      <th>1</th>\n",
       "      <td>12/9/2014</td>\n",
       "    </tr>\n",
       "    <tr>\n",
       "      <th>2</th>\n",
       "      <td>2/25/2015</td>\n",
       "    </tr>\n",
       "    <tr>\n",
       "      <th>3</th>\n",
       "      <td>12/9/2014</td>\n",
       "    </tr>\n",
       "    <tr>\n",
       "      <th>4</th>\n",
       "      <td>2/18/2015</td>\n",
       "    </tr>\n",
       "  </tbody>\n",
       "</table>\n",
       "</div>"
      ],
      "text/plain": [
       "         date\n",
       "0  10/13/2014\n",
       "1   12/9/2014\n",
       "2   2/25/2015\n",
       "3   12/9/2014\n",
       "4   2/18/2015"
      ]
     },
     "execution_count": 214,
     "metadata": {},
     "output_type": "execute_result"
    }
   ],
   "source": [
    "categorical_data =df[categorical_columns]\n",
    "categorical_data.head()"
   ]
  },
  {
   "cell_type": "code",
   "execution_count": 215,
   "metadata": {},
   "outputs": [
    {
     "name": "stdout",
     "output_type": "stream",
     "text": [
      "       waterfront  sqft_living\n",
      "0             0.0         1180\n",
      "1             0.0         2570\n",
      "2             0.0          770\n",
      "3             0.0         1960\n",
      "4             0.0         1680\n",
      "...           ...          ...\n",
      "21592         0.0         1530\n",
      "21593         0.0         2310\n",
      "21594         0.0         1020\n",
      "21595         0.0         1600\n",
      "21596         0.0         1020\n",
      "\n",
      "[21597 rows x 2 columns]\n",
      "Index(['waterfront', 'sqft_living'], dtype='object')\n"
     ]
    },
    {
     "data": {
      "text/html": [
       "<div>\n",
       "<style scoped>\n",
       "    .dataframe tbody tr th:only-of-type {\n",
       "        vertical-align: middle;\n",
       "    }\n",
       "\n",
       "    .dataframe tbody tr th {\n",
       "        vertical-align: top;\n",
       "    }\n",
       "\n",
       "    .dataframe thead th {\n",
       "        text-align: right;\n",
       "    }\n",
       "</style>\n",
       "<table border=\"1\" class=\"dataframe\">\n",
       "  <thead>\n",
       "    <tr style=\"text-align: right;\">\n",
       "      <th></th>\n",
       "      <th>waterfront</th>\n",
       "      <th>sqft_living</th>\n",
       "    </tr>\n",
       "  </thead>\n",
       "  <tbody>\n",
       "    <tr>\n",
       "      <th>0</th>\n",
       "      <td>0.0</td>\n",
       "      <td>1180</td>\n",
       "    </tr>\n",
       "    <tr>\n",
       "      <th>1</th>\n",
       "      <td>0.0</td>\n",
       "      <td>2570</td>\n",
       "    </tr>\n",
       "    <tr>\n",
       "      <th>2</th>\n",
       "      <td>0.0</td>\n",
       "      <td>770</td>\n",
       "    </tr>\n",
       "    <tr>\n",
       "      <th>3</th>\n",
       "      <td>0.0</td>\n",
       "      <td>1960</td>\n",
       "    </tr>\n",
       "    <tr>\n",
       "      <th>4</th>\n",
       "      <td>0.0</td>\n",
       "      <td>1680</td>\n",
       "    </tr>\n",
       "  </tbody>\n",
       "</table>\n",
       "</div>"
      ],
      "text/plain": [
       "   waterfront  sqft_living\n",
       "0         0.0         1180\n",
       "1         0.0         2570\n",
       "2         0.0          770\n",
       "3         0.0         1960\n",
       "4         0.0         1680"
      ]
     },
     "execution_count": 215,
     "metadata": {},
     "output_type": "execute_result"
    }
   ],
   "source": [
    "x4 = pd.DataFrame()\n",
    "x4['waterfront'] = df['waterfront']\n",
    "x4['sqft_living'] = df['sqft_living']\n",
    "print(x4)\n",
    "print(x4.columns)\n",
    "if '0' in x4.columns:\n",
    "    x4.drop('0', axis=1, inplace=True)\n",
    "x4.reset_index(drop=True, inplace=True)\n",
    "x4.head()"
   ]
  },
  {
   "cell_type": "code",
   "execution_count": 216,
   "metadata": {},
   "outputs": [
    {
     "name": "stdout",
     "output_type": "stream",
     "text": [
      "model: LinearRegression() mse: 60734030670.81583 mae: 168530.90217362012 r2: 0.5335911099754705\n"
     ]
    }
   ],
   "source": [
    "linear_regression_model(x4,y,test_size=0.2,random_state=42)"
   ]
  },
  {
   "cell_type": "markdown",
   "metadata": {},
   "source": [
    "model 5"
   ]
  },
  {
   "cell_type": "code",
   "execution_count": 217,
   "metadata": {},
   "outputs": [
    {
     "name": "stdout",
     "output_type": "stream",
     "text": [
      "       waterfront  sqft_living  bathrooms\n",
      "0             0.0         1180       1.00\n",
      "1             0.0         2570       2.25\n",
      "2             0.0          770       1.00\n",
      "3             0.0         1960       3.00\n",
      "4             0.0         1680       2.00\n",
      "...           ...          ...        ...\n",
      "21592         0.0         1530       2.50\n",
      "21593         0.0         2310       2.50\n",
      "21594         0.0         1020       0.75\n",
      "21595         0.0         1600       2.50\n",
      "21596         0.0         1020       0.75\n",
      "\n",
      "[21597 rows x 3 columns]\n"
     ]
    }
   ],
   "source": [
    "x5 = df[['waterfront', 'sqft_living', 'bathrooms']]\n",
    "print(x5)"
   ]
  },
  {
   "cell_type": "code",
   "execution_count": 218,
   "metadata": {},
   "outputs": [
    {
     "name": "stdout",
     "output_type": "stream",
     "text": [
      "model: LinearRegression() mse: 60732234154.12303 mae: 168531.8515797545 r2: 0.533604906381659\n"
     ]
    }
   ],
   "source": [
    "linear_regression_model(x5,y,test_size=0.2,random_state=42)"
   ]
  },
  {
   "cell_type": "code",
   "execution_count": 219,
   "metadata": {},
   "outputs": [
    {
     "data": {
      "text/plain": [
       "Index(['id', 'date', 'price', 'bedrooms', 'bathrooms', 'sqft_living',\n",
       "       'sqft_lot', 'floors', 'waterfront', 'condition', 'grade', 'sqft_above',\n",
       "       'sqft_basement', 'yr_built', 'zipcode', 'lat', 'long', 'sqft_living15',\n",
       "       'sqft_lot15', 'has_basement', 'log_sqft_basement',\n",
       "       'basement_size_category'],\n",
       "      dtype='object')"
      ]
     },
     "execution_count": 219,
     "metadata": {},
     "output_type": "execute_result"
    }
   ],
   "source": [
    "df.columns"
   ]
  },
  {
   "cell_type": "markdown",
   "metadata": {},
   "source": [
    "model 6"
   ]
  },
  {
   "cell_type": "code",
   "execution_count": 220,
   "metadata": {},
   "outputs": [
    {
     "name": "stdout",
     "output_type": "stream",
     "text": [
      "       bedrooms  bathrooms  sqft_living\n",
      "0             3       1.00         1180\n",
      "1             3       2.25         2570\n",
      "2             2       1.00          770\n",
      "3             4       3.00         1960\n",
      "4             3       2.00         1680\n",
      "...         ...        ...          ...\n",
      "21592         3       2.50         1530\n",
      "21593         4       2.50         2310\n",
      "21594         2       0.75         1020\n",
      "21595         3       2.50         1600\n",
      "21596         2       0.75         1020\n",
      "\n",
      "[21597 rows x 3 columns]\n"
     ]
    }
   ],
   "source": [
    "x6 = df[['bedrooms', 'bathrooms', 'sqft_living']]\n",
    "print(x6)\n"
   ]
  },
  {
   "cell_type": "code",
   "execution_count": 221,
   "metadata": {},
   "outputs": [
    {
     "name": "stdout",
     "output_type": "stream",
     "text": [
      "model: LinearRegression() mse: 63978494372.04944 mae: 168024.87585383924 r2: 0.5086751494027368\n"
     ]
    }
   ],
   "source": [
    "linear_regression_model(x6,y,test_size=0.2,random_state=42)"
   ]
  },
  {
   "cell_type": "markdown",
   "metadata": {},
   "source": [
    "model 7"
   ]
  },
  {
   "cell_type": "code",
   "execution_count": 222,
   "metadata": {},
   "outputs": [
    {
     "name": "stdout",
     "output_type": "stream",
     "text": [
      "       sqft_living  sqft_above  grade  bathrooms\n",
      "0             1180        1180      7       1.00\n",
      "1             2570        2170      7       2.25\n",
      "2              770         770      6       1.00\n",
      "3             1960        1050      7       3.00\n",
      "4             1680        1680      8       2.00\n",
      "...            ...         ...    ...        ...\n",
      "21592         1530        1530      8       2.50\n",
      "21593         2310        2310      8       2.50\n",
      "21594         1020        1020      7       0.75\n",
      "21595         1600        1600      8       2.50\n",
      "21596         1020        1020      7       0.75\n",
      "\n",
      "[21597 rows x 4 columns]\n",
      "model: LinearRegression() mse: 60729065072.41202 mae: 159888.3637660489 r2: 0.5336292434438779\n"
     ]
    }
   ],
   "source": [
    "x7 = df[['sqft_living','sqft_above','grade','bathrooms']]\n",
    "print(x7)\n",
    "linear_regression_model(x7,y,test_size=0.2,random_state=42)"
   ]
  },
  {
   "cell_type": "code",
   "execution_count": 223,
   "metadata": {},
   "outputs": [
    {
     "data": {
      "text/plain": [
       "Index(['id', 'date', 'price', 'bedrooms', 'bathrooms', 'sqft_living',\n",
       "       'sqft_lot', 'floors', 'waterfront', 'condition', 'grade', 'sqft_above',\n",
       "       'sqft_basement', 'yr_built', 'zipcode', 'lat', 'long', 'sqft_living15',\n",
       "       'sqft_lot15', 'has_basement', 'log_sqft_basement',\n",
       "       'basement_size_category'],\n",
       "      dtype='object')"
      ]
     },
     "execution_count": 223,
     "metadata": {},
     "output_type": "execute_result"
    }
   ],
   "source": [
    "df.columns"
   ]
  },
  {
   "cell_type": "code",
   "execution_count": 224,
   "metadata": {},
   "outputs": [
    {
     "data": {
      "text/plain": [
       "has_basement\n",
       "0    12826\n",
       "1     8771\n",
       "Name: count, dtype: int64"
      ]
     },
     "execution_count": 224,
     "metadata": {},
     "output_type": "execute_result"
    }
   ],
   "source": [
    "df['has_basement'].value_counts()"
   ]
  },
  {
   "cell_type": "code",
   "execution_count": 225,
   "metadata": {},
   "outputs": [],
   "source": [
    "import pandas as pd\n",
    "import matplotlib.pyplot as plt\n",
    "\n",
    "def correlation_and_scatterplot(df, x, y):\n",
    "    \"\"\"\n",
    "    Calculate the correlation between x and y variables and plot a scatter plot.\n",
    "    \n",
    "    Parameters:\n",
    "    df (pd.DataFrame): The DataFrame containing the data.\n",
    "    x (str): The name of the column for the x variable.\n",
    "    y (str): The name of the column for the y variable.\n",
    "    \n",
    "    Returns:\n",
    "    float: The correlation coefficient between x and y.\n",
    "    \"\"\"\n",
    "    # Calculate the correlation\n",
    "    correlation = df[x].corr(df[y])\n",
    "    \n",
    "    # Plot the scatter plot\n",
    "    plt.figure(figsize=(10, 6))\n",
    "    plt.scatter(df[x], df[y], alpha=0.5)\n",
    "    plt.title(f'Scatter Plot of {x} vs {y}')\n",
    "    plt.xlabel(x)\n",
    "    plt.ylabel(y)\n",
    "    plt.grid(True)\n",
    "    plt.show()\n",
    "    \n",
    "    return correlation\n",
    "\n",
    "# Example usage:\n",
    "# df = pd.read_csv('your_data.csv')\n",
    "# correlation = correlation_and_scatterplot(df, 'your_x_column', 'your_y_column')\n",
    "# print(f'Correlation between the variables: {correlation}')\n"
   ]
  },
  {
   "cell_type": "code",
   "execution_count": 226,
   "metadata": {},
   "outputs": [
    {
     "data": {
      "text/plain": [
       "Index(['id', 'date', 'price', 'bedrooms', 'bathrooms', 'sqft_living',\n",
       "       'sqft_lot', 'floors', 'waterfront', 'condition', 'grade', 'sqft_above',\n",
       "       'sqft_basement', 'yr_built', 'zipcode', 'lat', 'long', 'sqft_living15',\n",
       "       'sqft_lot15', 'has_basement', 'log_sqft_basement',\n",
       "       'basement_size_category'],\n",
       "      dtype='object')"
      ]
     },
     "execution_count": 226,
     "metadata": {},
     "output_type": "execute_result"
    }
   ],
   "source": [
    "df.columns"
   ]
  },
  {
   "cell_type": "code",
   "execution_count": 227,
   "metadata": {},
   "outputs": [],
   "source": [
    "def analyze_correlations(df, target='price'):\n",
    "    \"\"\"\n",
    "    Analyze correlations between all columns in the DataFrame and the target variable.\n",
    "    \n",
    "    Parameters:\n",
    "    df (pd.DataFrame): The DataFrame containing the data.\n",
    "    target (str): The name of the target column.\n",
    "    \n",
    "    Returns:\n",
    "    dict: A dictionary with column names as keys and correlation coefficients as values.\n",
    "    \"\"\"\n",
    "    correlations = {}\n",
    "    for column in df.columns:\n",
    "        if column != 'id' and column != target:\n",
    "            corr = correlation_and_scatterplot(df, column, target)\n",
    "            correlations[column] = corr\n",
    "            print(f'Correlation between {column} and {target}: {corr}')\n",
    "    return correlations\n",
    "\n",
    "# Example usage:\n",
    "# df = pd.read_csv('your_data.csv')\n",
    "# correlations = analyze_correlations(df, target='price')\n",
    "# print(correlations)"
   ]
  },
  {
   "cell_type": "markdown",
   "metadata": {},
   "source": [
    "sqft_living,sqft_above,grade,bathrooms"
   ]
  },
  {
   "cell_type": "code",
   "execution_count": 228,
   "metadata": {},
   "outputs": [
    {
     "name": "stdout",
     "output_type": "stream",
     "text": [
      "model: LinearRegression() mse: 60729065072.41202 mae: 159888.3637660489 r2: 0.5336292434438779\n"
     ]
    }
   ],
   "source": [
    "x8 = df[['sqft_living', 'sqft_above','grade','bathrooms']]\n",
    "linear_regression_model(x8,y,test_size=0.2,random_state=42)"
   ]
  },
  {
   "cell_type": "code",
   "execution_count": 229,
   "metadata": {},
   "outputs": [
    {
     "data": {
      "text/plain": [
       "grade\n",
       "7     8974\n",
       "8     6065\n",
       "9     2615\n",
       "6     2038\n",
       "10    1134\n",
       "11     399\n",
       "5      242\n",
       "12      89\n",
       "4       27\n",
       "13      13\n",
       "3        1\n",
       "Name: count, dtype: int64"
      ]
     },
     "execution_count": 229,
     "metadata": {},
     "output_type": "execute_result"
    }
   ],
   "source": [
    "df['grade'].value_counts()"
   ]
  },
  {
   "cell_type": "code",
   "execution_count": 230,
   "metadata": {},
   "outputs": [
    {
     "data": {
      "text/html": [
       "<div>\n",
       "<style scoped>\n",
       "    .dataframe tbody tr th:only-of-type {\n",
       "        vertical-align: middle;\n",
       "    }\n",
       "\n",
       "    .dataframe tbody tr th {\n",
       "        vertical-align: top;\n",
       "    }\n",
       "\n",
       "    .dataframe thead th {\n",
       "        text-align: right;\n",
       "    }\n",
       "</style>\n",
       "<table border=\"1\" class=\"dataframe\">\n",
       "  <thead>\n",
       "    <tr style=\"text-align: right;\">\n",
       "      <th></th>\n",
       "      <th>grade</th>\n",
       "      <th>price</th>\n",
       "    </tr>\n",
       "  </thead>\n",
       "  <tbody>\n",
       "    <tr>\n",
       "      <th>grade</th>\n",
       "      <td>1.000000</td>\n",
       "      <td>0.667951</td>\n",
       "    </tr>\n",
       "    <tr>\n",
       "      <th>price</th>\n",
       "      <td>0.667951</td>\n",
       "      <td>1.000000</td>\n",
       "    </tr>\n",
       "  </tbody>\n",
       "</table>\n",
       "</div>"
      ],
      "text/plain": [
       "          grade     price\n",
       "grade  1.000000  0.667951\n",
       "price  0.667951  1.000000"
      ]
     },
     "execution_count": 230,
     "metadata": {},
     "output_type": "execute_result"
    }
   ],
   "source": [
    "x9= df[['grade','price']]\n",
    "x9.corr()\n"
   ]
  },
  {
   "cell_type": "markdown",
   "metadata": {},
   "source": [
    "key factors used"
   ]
  }
 ],
 "metadata": {
  "kernelspec": {
   "display_name": "base",
   "language": "python",
   "name": "python3"
  },
  "language_info": {
   "codemirror_mode": {
    "name": "ipython",
    "version": 3
   },
   "file_extension": ".py",
   "mimetype": "text/x-python",
   "name": "python",
   "nbconvert_exporter": "python",
   "pygments_lexer": "ipython3",
   "version": "3.11.7"
  }
 },
 "nbformat": 4,
 "nbformat_minor": 2
}
