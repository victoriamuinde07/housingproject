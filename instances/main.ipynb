{
 "cells": [
  {
   "cell_type": "code",
   "execution_count": 6,
   "metadata": {},
   "outputs": [],
   "source": [
    "import ride  \n",
    "from ride import Ride"
   ]
  },
  {
   "cell_type": "code",
   "execution_count": 10,
   "metadata": {},
   "outputs": [],
   "source": [
    "class Driver:\n",
    "    pass"
   ]
  },
  {
   "cell_type": "code",
   "execution_count": 12,
   "metadata": {},
   "outputs": [],
   "source": [
    "class Passenger:\n",
    "    pass"
   ]
  },
  {
   "cell_type": "code",
   "execution_count": 13,
   "metadata": {},
   "outputs": [
    {
     "name": "stdout",
     "output_type": "stream",
     "text": [
      "<__main__.Passenger object at 0x00000234A61CBF50>\n",
      "<__main__.Passenger object at 0x00000234A61CB810>\n"
     ]
    }
   ],
   "source": [
    "meryl = Passenger()\n",
    "daniel = Passenger()\n",
    "\n",
    "print(meryl)\n",
    "print(daniel)"
   ]
  },
  {
   "cell_type": "code",
   "execution_count": 14,
   "metadata": {},
   "outputs": [
    {
     "name": "stdout",
     "output_type": "stream",
     "text": [
      "<__main__.Driver object at 0x00000234A6218350>\n"
     ]
    }
   ],
   "source": [
    "flatiron_taxi = Driver()\n",
    "print(flatiron_taxi)"
   ]
  },
  {
   "cell_type": "code",
   "execution_count": 16,
   "metadata": {},
   "outputs": [
    {
     "name": "stdout",
     "output_type": "stream",
     "text": [
      "<ride.Ride object at 0x00000234A54754D0>\n",
      "<ride.Ride object at 0x00000234A5475790>\n"
     ]
    }
   ],
   "source": [
    "ride_to_school = Ride()\n",
    "ride_home= Ride()\n",
    "\n",
    "print(ride_home)\n",
    "print(ride_to_school)"
   ]
  },
  {
   "cell_type": "code",
   "execution_count": 17,
   "metadata": {},
   "outputs": [],
   "source": [
    "class Dog:\n",
    "    pass"
   ]
  },
  {
   "cell_type": "code",
   "execution_count": 18,
   "metadata": {},
   "outputs": [
    {
     "data": {
      "text/plain": [
       "<__main__.Dog at 0x234a61fe210>"
      ]
     },
     "execution_count": 18,
     "metadata": {},
     "output_type": "execute_result"
    }
   ],
   "source": [
    "rex = Dog()\n",
    "rex"
   ]
  },
  {
   "cell_type": "code",
   "execution_count": 19,
   "metadata": {},
   "outputs": [
    {
     "data": {
      "text/plain": [
       "<function __main__.make_a_bark()>"
      ]
     },
     "execution_count": 19,
     "metadata": {},
     "output_type": "execute_result"
    }
   ],
   "source": [
    "def make_a_bark():\n",
    "    return \"uf uf!\"\n",
    "rex.bark = make_a_bark\n",
    "rex.bark"
   ]
  },
  {
   "cell_type": "code",
   "execution_count": 20,
   "metadata": {},
   "outputs": [
    {
     "data": {
      "text/plain": [
       "'uf uf!'"
      ]
     },
     "execution_count": 20,
     "metadata": {},
     "output_type": "execute_result"
    }
   ],
   "source": [
    "rex.bark()"
   ]
  },
  {
   "cell_type": "code",
   "execution_count": 22,
   "metadata": {},
   "outputs": [
    {
     "name": "stdout",
     "output_type": "stream",
     "text": [
      "1 <__main__.Dog object at 0x00000234A61FE1D0>\n",
      "2 <__main__.Dog object at 0x00000234A61FE1D0>\n"
     ]
    },
    {
     "data": {
      "text/plain": [
       "'am barking uf uf!'"
      ]
     },
     "execution_count": 22,
     "metadata": {},
     "output_type": "execute_result"
    }
   ],
   "source": [
    "class Dog:\n",
    "    def bark(self):\n",
    "        return'am barking uf uf!' \n",
    "    def who_i_am(self):\n",
    "        return self\n",
    "fido =Dog()\n",
    "print('1',fido.who_i_am())\n",
    "print('2',fido)\n",
    "new_rex = Dog()\n",
    "new_rex.bark()"
   ]
  },
  {
   "cell_type": "code",
   "execution_count": 23,
   "metadata": {},
   "outputs": [
    {
     "name": "stdout",
     "output_type": "stream",
     "text": [
      "3 True\n",
      "4 True\n"
     ]
    }
   ],
   "source": [
    "an_rex = Dog()\n",
    "print('3',fido == fido.who_i_am())\n",
    "print('4',an_rex == an_rex.who_i_am())"
   ]
  },
  {
   "cell_type": "code",
   "execution_count": 24,
   "metadata": {},
   "outputs": [
    {
     "name": "stdout",
     "output_type": "stream",
     "text": [
      "1.  Hi, my name is Gail. It is a pleasure to meet you!\n",
      "2.  Hi, my name is the Snail. It is a pleasure to meet you!\n"
     ]
    }
   ],
   "source": [
    "class Person():\n",
    "    \n",
    "    def introduce(self):\n",
    "        return f'Hi, my name is {self.name}. It is a pleasure to meet you!'\n",
    "    \n",
    "    def say_hello(self):\n",
    "        return 'Hi, how are you?'\n",
    "        \n",
    "    def eat_breakfast(self):\n",
    "        self.hungry = False\n",
    "        return 'Yum that was delish!'\n",
    "        \n",
    "gail = Person()\n",
    "gail.name = 'Gail'\n",
    "the_snail = Person()\n",
    "the_snail.name = 'the Snail'\n",
    "print('1. ', gail.introduce())\n",
    "print('2. ', the_snail.introduce())"
   ]
  },
  {
   "cell_type": "code",
   "execution_count": 26,
   "metadata": {},
   "outputs": [
    {
     "name": "stdout",
     "output_type": "stream",
     "text": [
      "1.  29\n",
      "2.  Happy Birthday to the Snail (aka ME)! Can't believe I'm 30?!\n",
      "3.  30\n"
     ]
    }
   ],
   "source": [
    "class Person():\n",
    "    \n",
    "    def happy_birthday(self):\n",
    "        self.age += 1\n",
    "        return f\"Happy Birthday to {self.name} (aka ME)! Can't believe I'm {self.age}?!\"\n",
    "\n",
    "the_snail = Person()\n",
    "the_snail.name = 'the Snail'\n",
    "the_snail.age = 29\n",
    "print('1. ', the_snail.age)\n",
    "print('2. ', the_snail.happy_birthday())\n",
    "print('3. ', the_snail.age)"
   ]
  },
  {
   "cell_type": "code",
   "execution_count": 27,
   "metadata": {},
   "outputs": [
    {
     "name": "stdout",
     "output_type": "stream",
     "text": [
      "1 True\n",
      "Hunger is being relieved\n",
      "2. Wow, that really hit the spot!I am so full, but more importantly\n",
      "3. False\n",
      "4. <bound method Person.relieve_hunger of <__main__.Person object at 0x00000234A61A3AD0>>\n"
     ]
    }
   ],
   "source": [
    "class Person():\n",
    "    def eat_sandwhich(self):\n",
    "        if (self.hungry):\n",
    "            self.relieve_hunger()\n",
    "            return\"Wow, that really hit the spot!I am so full, but more importantly\"\n",
    "        else:\n",
    "            return \"Oh, I don't think i can eat another one but thank you\"\n",
    "    def relieve_hunger(self):\n",
    "            print(\"Hunger is being relieved\")\n",
    "            self.hungry = False\n",
    "the_snail = Person()\n",
    "the_snail.name = \"Pershon\"\n",
    "the_snail.hungry = True\n",
    "print('1',the_snail.hungry)\n",
    "print('2.',the_snail.eat_sandwhich())\n",
    "print('3.',the_snail.hungry)\n",
    "print('4.',the_snail.relieve_hunger)\n"
   ]
  },
  {
   "cell_type": "code",
   "execution_count": 29,
   "metadata": {},
   "outputs": [
    {
     "name": "stdout",
     "output_type": "stream",
     "text": [
      "Hello! I'll be your driver today.My name is Matthew Mitchell\n"
     ]
    }
   ],
   "source": [
    "class Driver():\n",
    "    def greet_passenger(self):\n",
    "        print(f\"Hello! I'll be your driver today.My name is {self.first_name} {self.last_name}\")\n",
    "driver = Driver()\n",
    "driver.first_name = \"Matthew\"\n",
    "driver.last_name =\"Mitchell\"\n",
    "driver.miles_driven =100\n",
    "driver.rating =4.9 \n",
    "driver.greet_passenger()\n"
   ]
  },
  {
   "cell_type": "code",
   "execution_count": 3,
   "metadata": {},
   "outputs": [
    {
     "name": "stdout",
     "output_type": "stream",
     "text": [
      "VICKIE GANJA\n"
     ]
    }
   ],
   "source": [
    "class Passenger():\n",
    "    def yell_name(self):\n",
    "        print(f\"{self.first.upper()} {self.last.upper()}\")\n",
    "passenger = Passenger()\n",
    "passenger.first = \"Vickie\"\n",
    "passenger.last = \"Ganja\" \n",
    "passenger.yell_name()"
   ]
  },
  {
   "cell_type": "code",
   "execution_count": 9,
   "metadata": {},
   "outputs": [
    {
     "name": "stdout",
     "output_type": "stream",
     "text": [
      "rose\n",
      "gardner\n"
     ]
    }
   ],
   "source": [
    "class teacher():\n",
    "    def __init__(self,name='rose',job='gardner'):\n",
    "        self.name = name\n",
    "        self.job = job\n",
    "bobi = teacher()\n",
    "print(bobi.name) \n",
    "print(bobi.job)\n",
    "        "
   ]
  },
  {
   "cell_type": "code",
   "execution_count": 12,
   "metadata": {},
   "outputs": [
    {
     "name": "stdout",
     "output_type": "stream",
     "text": [
      "victor\n",
      "muuo\n",
      "driver\n"
     ]
    }
   ],
   "source": [
    "class Driver():\n",
    "    def __init__(self,first,last,occupation='driver'):\n",
    "        self.first = first\n",
    "        self.last = last\n",
    "        self.occupation = occupation \n",
    "driving = Driver('victor', 'muuo')\n",
    "print(driving.first)\n",
    "print(driving.last)\n",
    "print(driving.occupation)     \n",
    "        "
   ]
  },
  {
   "cell_type": "code",
   "execution_count": 13,
   "metadata": {},
   "outputs": [
    {
     "name": "stdout",
     "output_type": "stream",
     "text": [
      "victoria\n",
      "mwikali\n",
      "victoriamuinde01@gmail.com\n",
      "0\n"
     ]
    }
   ],
   "source": [
    "class Passenger():\n",
    "     def __init__(self,first,last,email,rides_taken=0):\n",
    "         self.first = first \n",
    "         self.last = last\n",
    "         self.email = email\n",
    "         self.rides_taken = rides_taken \n",
    "passenger = Passenger('victoria','mwikali','victoriamuinde01@gmail.com') \n",
    "print(passenger.first)\n",
    "print(passenger.last)\n",
    "print(passenger.email)\n",
    "print(passenger.rides_taken)\n",
    "     "
   ]
  },
  {
   "cell_type": "code",
   "execution_count": 33,
   "metadata": {},
   "outputs": [
    {
     "name": "stdout",
     "output_type": "stream",
     "text": [
      "I practice daily in listening songs,to have an idea of my next project\n",
      "elevate,innovate,grow\n",
      "me don wanna a boring man\n"
     ]
    }
   ],
   "source": [
    "class Musician(object):\n",
    "    def __init__(self):\n",
    "        self.name = 'vybzkartel' \n",
    "        self.role =\"singer\"\n",
    "        self.type = \"gaza\" \n",
    "    def practice(self): \n",
    "        print(\"I practice daily in listening songs,to have an idea of my next project\")\n",
    "    def perform(self):\n",
    "        print(\"i believe in greatness.Period!\")\n",
    "class Engineer(Musician):\n",
    "    def __init__(self): \n",
    "        super().__init__() \n",
    "        self.name = \"Victor\"\n",
    "        self.role = \"civil engineer\"\n",
    "    def practice(self):\n",
    "        print('elevate,innovate,grow')\n",
    "        \n",
    "class Doctor(Engineer):\n",
    "    def __init__(self): \n",
    "        self.name = \"shego\"\n",
    "        self.role = \"treat\" \n",
    "    def perform(self):\n",
    "        super().__init__()\n",
    "        print(\"me don wanna a boring man\")\n",
    "        \n",
    "shego = Doctor()\n",
    "victor = Engineer()\n",
    "vybzkartel = Musician()\n",
    "\n",
    "vybzkartel.practice()\n",
    "victor.practice()\n",
    "shego.perform()"
   ]
  },
  {
   "cell_type": "code",
   "execution_count": null,
   "metadata": {},
   "outputs": [],
   "source": [
    "class Animal(object):\n",
    "    def __init__(self ,name,weight):\n",
    "        self.name = name\n",
    "        self.weight = weight\n",
    "        self.size = None \n",
    "        self.species = None\n",
    "        self.food_type = None\n",
    "        self.nocturnal = False\n",
    "    def sleep(self):\n",
    "        if self.nocturnal:\n",
    "            print(f\"{self.name} , sleeps during the day\")\n",
    "        else:\n",
    "            print(f\"{self.name} , sleeps during the night\")\n",
    "    def eat(self,food):\n",
    "        if self.food_type == 'omnivore':\n",
    "            print(f\"{self.name,self.species},thinks its yummy\")\n",
    "        elif(food == 'meat' and self.food_type =='carnivore')or (food == 'plants'and self.food_type =='herbivore'):\n",
    "            print(f\"{self.name,self.food_type,food} thinks the food is tasty\")\n",
    "        else:\n",
    "            print('i dont eat these')\n",
    "class Elephant(Animal): \n",
    "    def __init__(self,name,weight):\n",
    "        super().___init__(name,weight)\n",
    "        self.size = \"huge\"\n",
    "        self.species = \"elephant\" \n",
    "        self.food_type = \"herbivore\" \n",
    "        self.nocturnal = False\n",
    "class Tiger(Animal): \n",
    "    def __init__(self,name,weight):\n",
    "        super().___init__(name,weight)\n",
    "        self.size = \"huge\"\n",
    "        self.species = \"Tiger\" \n",
    "        self.food_type = \"carnivore\" \n",
    "        self.nocturnal = False\n",
    "class Monkey(Animal): \n",
    "    def __init__(self,name,weight):\n",
    "        super().___init__(name,weight)\n",
    "        self.size = \"medium\"\n",
    "        self.species = \"Monkey\" \n",
    "        self.food_type = \"omnivore\" \n",
    "        self.nocturnal = True\n",
    "def add_animal_to_zoo(zoo, animal_type, name, weight):\n",
    "        animal = None\n",
    "        if animal_type == 'Monkey':\n",
    "            animal = Monkey(name,weight)\n",
    "        elif animal_type == 'Tiger':\n",
    "            animal = Tiger(name,weight)\n",
    "        else:\n",
    "            animal = Elephant(name,weight) \n",
    "        zoo.append(animal)\n",
    "        return zoo\n",
    "    \n",
    "to_create = ['Elephant','Tiger','Monkey']\n",
    "zoo = []\n",
    "for i in to_create: \n",
    "    zoo = add_animal_to_zoo(zoo,i,'name',100)\n",
    "zoo\n",
    "def feed_animals(zoo,  time ='Day'):\n",
    "    for animal in zoo:\n",
    "        if ((time == 'Day'and not animal.nocturnal) or (time == 'Night' and animal.nocturnal)):\n",
    "            if animal.nocturnal == False:\n",
    "                if animal.food_type == 'carnivore':\n",
    "                    animal.eat('meat')\n",
    "                else:\n",
    "                    animal.eat('plants')\n",
    "            else:\n",
    "                if animal.nocturnal == True:\n",
    "                    if animal.food_type == 'carnivore':\n",
    "                        animal.eat('meat')\n",
    "                    else:\n",
    "                        animal.eat('plants')\n",
    "feed_animals(zoo)\n",
    "feed_animals(zoo,'Night')\n",
    "        "
   ]
  }
 ],
 "metadata": {
  "kernelspec": {
   "display_name": "base",
   "language": "python",
   "name": "python3"
  },
  "language_info": {
   "codemirror_mode": {
    "name": "ipython",
    "version": 3
   },
   "file_extension": ".py",
   "mimetype": "text/x-python",
   "name": "python",
   "nbconvert_exporter": "python",
   "pygments_lexer": "ipython3",
   "version": "3.11.7"
  }
 },
 "nbformat": 4,
 "nbformat_minor": 2
}
