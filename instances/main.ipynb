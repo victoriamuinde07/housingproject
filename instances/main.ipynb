{
 "cells": [
  {
   "cell_type": "code",
   "execution_count": 6,
   "metadata": {},
   "outputs": [],
   "source": [
    "import ride  \n",
    "from ride import Ride"
   ]
  },
  {
   "cell_type": "code",
   "execution_count": 10,
   "metadata": {},
   "outputs": [],
   "source": [
    "class Driver:\n",
    "    pass"
   ]
  },
  {
   "cell_type": "code",
   "execution_count": 12,
   "metadata": {},
   "outputs": [],
   "source": [
    "class Passenger:\n",
    "    pass"
   ]
  },
  {
   "cell_type": "code",
   "execution_count": 13,
   "metadata": {},
   "outputs": [
    {
     "name": "stdout",
     "output_type": "stream",
     "text": [
      "<__main__.Passenger object at 0x00000234A61CBF50>\n",
      "<__main__.Passenger object at 0x00000234A61CB810>\n"
     ]
    }
   ],
   "source": [
    "meryl = Passenger()\n",
    "daniel = Passenger()\n",
    "\n",
    "print(meryl)\n",
    "print(daniel)"
   ]
  },
  {
   "cell_type": "code",
   "execution_count": 14,
   "metadata": {},
   "outputs": [
    {
     "name": "stdout",
     "output_type": "stream",
     "text": [
      "<__main__.Driver object at 0x00000234A6218350>\n"
     ]
    }
   ],
   "source": [
    "flatiron_taxi = Driver()\n",
    "print(flatiron_taxi)"
   ]
  },
  {
   "cell_type": "code",
   "execution_count": 16,
   "metadata": {},
   "outputs": [
    {
     "name": "stdout",
     "output_type": "stream",
     "text": [
      "<ride.Ride object at 0x00000234A54754D0>\n",
      "<ride.Ride object at 0x00000234A5475790>\n"
     ]
    }
   ],
   "source": [
    "ride_to_school = Ride()\n",
    "ride_home= Ride()\n",
    "\n",
    "print(ride_home)\n",
    "print(ride_to_school)"
   ]
  },
  {
   "cell_type": "code",
   "execution_count": 17,
   "metadata": {},
   "outputs": [],
   "source": [
    "class Dog:\n",
    "    pass"
   ]
  },
  {
   "cell_type": "code",
   "execution_count": 18,
   "metadata": {},
   "outputs": [
    {
     "data": {
      "text/plain": [
       "<__main__.Dog at 0x234a61fe210>"
      ]
     },
     "execution_count": 18,
     "metadata": {},
     "output_type": "execute_result"
    }
   ],
   "source": [
    "rex = Dog()\n",
    "rex"
   ]
  },
  {
   "cell_type": "code",
   "execution_count": 19,
   "metadata": {},
   "outputs": [
    {
     "data": {
      "text/plain": [
       "<function __main__.make_a_bark()>"
      ]
     },
     "execution_count": 19,
     "metadata": {},
     "output_type": "execute_result"
    }
   ],
   "source": [
    "def make_a_bark():\n",
    "    return \"uf uf!\"\n",
    "rex.bark = make_a_bark\n",
    "rex.bark"
   ]
  },
  {
   "cell_type": "code",
   "execution_count": 20,
   "metadata": {},
   "outputs": [
    {
     "data": {
      "text/plain": [
       "'uf uf!'"
      ]
     },
     "execution_count": 20,
     "metadata": {},
     "output_type": "execute_result"
    }
   ],
   "source": [
    "rex.bark()"
   ]
  },
  {
   "cell_type": "code",
   "execution_count": 22,
   "metadata": {},
   "outputs": [
    {
     "name": "stdout",
     "output_type": "stream",
     "text": [
      "1 <__main__.Dog object at 0x00000234A61FE1D0>\n",
      "2 <__main__.Dog object at 0x00000234A61FE1D0>\n"
     ]
    },
    {
     "data": {
      "text/plain": [
       "'am barking uf uf!'"
      ]
     },
     "execution_count": 22,
     "metadata": {},
     "output_type": "execute_result"
    }
   ],
   "source": [
    "class Dog:\n",
    "    def bark(self):\n",
    "        return'am barking uf uf!' \n",
    "    def who_i_am(self):\n",
    "        return self\n",
    "fido =Dog()\n",
    "print('1',fido.who_i_am())\n",
    "print('2',fido)\n",
    "new_rex = Dog()\n",
    "new_rex.bark()"
   ]
  },
  {
   "cell_type": "code",
   "execution_count": 23,
   "metadata": {},
   "outputs": [
    {
     "name": "stdout",
     "output_type": "stream",
     "text": [
      "3 True\n",
      "4 True\n"
     ]
    }
   ],
   "source": [
    "an_rex = Dog()\n",
    "print('3',fido == fido.who_i_am())\n",
    "print('4',an_rex == an_rex.who_i_am())"
   ]
  },
  {
   "cell_type": "code",
   "execution_count": 24,
   "metadata": {},
   "outputs": [
    {
     "name": "stdout",
     "output_type": "stream",
     "text": [
      "1.  Hi, my name is Gail. It is a pleasure to meet you!\n",
      "2.  Hi, my name is the Snail. It is a pleasure to meet you!\n"
     ]
    }
   ],
   "source": [
    "class Person():\n",
    "    \n",
    "    def introduce(self):\n",
    "        return f'Hi, my name is {self.name}. It is a pleasure to meet you!'\n",
    "    \n",
    "    def say_hello(self):\n",
    "        return 'Hi, how are you?'\n",
    "        \n",
    "    def eat_breakfast(self):\n",
    "        self.hungry = False\n",
    "        return 'Yum that was delish!'\n",
    "        \n",
    "gail = Person()\n",
    "gail.name = 'Gail'\n",
    "the_snail = Person()\n",
    "the_snail.name = 'the Snail'\n",
    "print('1. ', gail.introduce())\n",
    "print('2. ', the_snail.introduce())"
   ]
  },
  {
   "cell_type": "code",
   "execution_count": 26,
   "metadata": {},
   "outputs": [
    {
     "name": "stdout",
     "output_type": "stream",
     "text": [
      "1.  29\n",
      "2.  Happy Birthday to the Snail (aka ME)! Can't believe I'm 30?!\n",
      "3.  30\n"
     ]
    }
   ],
   "source": [
    "class Person():\n",
    "    \n",
    "    def happy_birthday(self):\n",
    "        self.age += 1\n",
    "        return f\"Happy Birthday to {self.name} (aka ME)! Can't believe I'm {self.age}?!\"\n",
    "\n",
    "the_snail = Person()\n",
    "the_snail.name = 'the Snail'\n",
    "the_snail.age = 29\n",
    "print('1. ', the_snail.age)\n",
    "print('2. ', the_snail.happy_birthday())\n",
    "print('3. ', the_snail.age)"
   ]
  },
  {
   "cell_type": "code",
   "execution_count": 27,
   "metadata": {},
   "outputs": [
    {
     "name": "stdout",
     "output_type": "stream",
     "text": [
      "1 True\n",
      "Hunger is being relieved\n",
      "2. Wow, that really hit the spot!I am so full, but more importantly\n",
      "3. False\n",
      "4. <bound method Person.relieve_hunger of <__main__.Person object at 0x00000234A61A3AD0>>\n"
     ]
    }
   ],
   "source": [
    "class Person():\n",
    "    def eat_sandwhich(self):\n",
    "        if (self.hungry):\n",
    "            self.relieve_hunger()\n",
    "            return\"Wow, that really hit the spot!I am so full, but more importantly\"\n",
    "        else:\n",
    "            return \"Oh, I don't think i can eat another one but thank you\"\n",
    "    def relieve_hunger(self):\n",
    "            print(\"Hunger is being relieved\")\n",
    "            self.hungry = False\n",
    "the_snail = Person()\n",
    "the_snail.name = \"Pershon\"\n",
    "the_snail.hungry = True\n",
    "print('1',the_snail.hungry)\n",
    "print('2.',the_snail.eat_sandwhich())\n",
    "print('3.',the_snail.hungry)\n",
    "print('4.',the_snail.relieve_hunger)\n"
   ]
  },
  {
   "cell_type": "code",
   "execution_count": 29,
   "metadata": {},
   "outputs": [
    {
     "name": "stdout",
     "output_type": "stream",
     "text": [
      "Hello! I'll be your driver today.My name is Matthew Mitchell\n"
     ]
    }
   ],
   "source": [
    "class Driver():\n",
    "    def greet_passenger(self):\n",
    "        print(f\"Hello! I'll be your driver today.My name is {self.first_name} {self.last_name}\")\n",
    "driver = Driver()\n",
    "driver.first_name = \"Matthew\"\n",
    "driver.last_name =\"Mitchell\"\n",
    "driver.miles_driven =100\n",
    "driver.rating =4.9 \n",
    "driver.greet_passenger()\n"
   ]
  },
  {
   "cell_type": "code",
   "execution_count": 3,
   "metadata": {},
   "outputs": [
    {
     "name": "stdout",
     "output_type": "stream",
     "text": [
      "VICKIE GANJA\n"
     ]
    }
   ],
   "source": [
    "class Passenger():\n",
    "    def yell_name(self):\n",
    "        print(f\"{self.first.upper()} {self.last.upper()}\")\n",
    "passenger = Passenger()\n",
    "passenger.first = \"Vickie\"\n",
    "passenger.last = \"Ganja\" \n",
    "passenger.yell_name()"
   ]
  }
 ],
 "metadata": {
  "kernelspec": {
   "display_name": "base",
   "language": "python",
   "name": "python3"
  },
  "language_info": {
   "codemirror_mode": {
    "name": "ipython",
    "version": 3
   },
   "file_extension": ".py",
   "mimetype": "text/x-python",
   "name": "python",
   "nbconvert_exporter": "python",
   "pygments_lexer": "ipython3",
   "version": "3.11.7"
  }
 },
 "nbformat": 4,
 "nbformat_minor": 2
}
