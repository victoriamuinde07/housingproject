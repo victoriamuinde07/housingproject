{
 "cells": [
  {
   "cell_type": "code",
   "execution_count": 6,
   "metadata": {},
   "outputs": [],
   "source": [
    "import ride  \n",
    "from ride import Ride"
   ]
  },
  {
   "cell_type": "code",
   "execution_count": 10,
   "metadata": {},
   "outputs": [],
   "source": [
    "class Driver:\n",
    "    pass"
   ]
  },
  {
   "cell_type": "code",
   "execution_count": 12,
   "metadata": {},
   "outputs": [],
   "source": [
    "class Passenger:\n",
    "    pass"
   ]
  },
  {
   "cell_type": "code",
   "execution_count": 13,
   "metadata": {},
   "outputs": [
    {
     "name": "stdout",
     "output_type": "stream",
     "text": [
      "<__main__.Passenger object at 0x00000234A61CBF50>\n",
      "<__main__.Passenger object at 0x00000234A61CB810>\n"
     ]
    }
   ],
   "source": [
    "meryl = Passenger()\n",
    "daniel = Passenger()\n",
    "\n",
    "print(meryl)\n",
    "print(daniel)"
   ]
  },
  {
   "cell_type": "code",
   "execution_count": 14,
   "metadata": {},
   "outputs": [
    {
     "name": "stdout",
     "output_type": "stream",
     "text": [
      "<__main__.Driver object at 0x00000234A6218350>\n"
     ]
    }
   ],
   "source": [
    "flatiron_taxi = Driver()\n",
    "print(flatiron_taxi)"
   ]
  },
  {
   "cell_type": "code",
   "execution_count": 16,
   "metadata": {},
   "outputs": [
    {
     "name": "stdout",
     "output_type": "stream",
     "text": [
      "<ride.Ride object at 0x00000234A54754D0>\n",
      "<ride.Ride object at 0x00000234A5475790>\n"
     ]
    }
   ],
   "source": [
    "ride_to_school = Ride()\n",
    "ride_home= Ride()\n",
    "\n",
    "print(ride_home)\n",
    "print(ride_to_school)"
   ]
  },
  {
   "cell_type": "code",
   "execution_count": 17,
   "metadata": {},
   "outputs": [],
   "source": [
    "class Dog:\n",
    "    pass"
   ]
  },
  {
   "cell_type": "code",
   "execution_count": 18,
   "metadata": {},
   "outputs": [
    {
     "data": {
      "text/plain": [
       "<__main__.Dog at 0x234a61fe210>"
      ]
     },
     "execution_count": 18,
     "metadata": {},
     "output_type": "execute_result"
    }
   ],
   "source": [
    "rex = Dog()\n",
    "rex"
   ]
  },
  {
   "cell_type": "code",
   "execution_count": 19,
   "metadata": {},
   "outputs": [
    {
     "data": {
      "text/plain": [
       "<function __main__.make_a_bark()>"
      ]
     },
     "execution_count": 19,
     "metadata": {},
     "output_type": "execute_result"
    }
   ],
   "source": [
    "def make_a_bark():\n",
    "    return \"uf uf!\"\n",
    "rex.bark = make_a_bark\n",
    "rex.bark"
   ]
  },
  {
   "cell_type": "code",
   "execution_count": 20,
   "metadata": {},
   "outputs": [
    {
     "data": {
      "text/plain": [
       "'uf uf!'"
      ]
     },
     "execution_count": 20,
     "metadata": {},
     "output_type": "execute_result"
    }
   ],
   "source": [
    "rex.bark()"
   ]
  },
  {
   "cell_type": "code",
   "execution_count": 22,
   "metadata": {},
   "outputs": [
    {
     "name": "stdout",
     "output_type": "stream",
     "text": [
      "1 <__main__.Dog object at 0x00000234A61FE1D0>\n",
      "2 <__main__.Dog object at 0x00000234A61FE1D0>\n"
     ]
    },
    {
     "data": {
      "text/plain": [
       "'am barking uf uf!'"
      ]
     },
     "execution_count": 22,
     "metadata": {},
     "output_type": "execute_result"
    }
   ],
   "source": [
    "class Dog:\n",
    "    def bark(self):\n",
    "        return'am barking uf uf!' \n",
    "    def who_i_am(self):\n",
    "        return self\n",
    "fido =Dog()\n",
    "print('1',fido.who_i_am())\n",
    "print('2',fido)\n",
    "new_rex = Dog()\n",
    "new_rex.bark()"
   ]
  },
  {
   "cell_type": "code",
   "execution_count": 23,
   "metadata": {},
   "outputs": [
    {
     "name": "stdout",
     "output_type": "stream",
     "text": [
      "3 True\n",
      "4 True\n"
     ]
    }
   ],
   "source": [
    "an_rex = Dog()\n",
    "print('3',fido == fido.who_i_am())\n",
    "print('4',an_rex == an_rex.who_i_am())"
   ]
  }
 ],
 "metadata": {
  "kernelspec": {
   "display_name": "base",
   "language": "python",
   "name": "python3"
  },
  "language_info": {
   "codemirror_mode": {
    "name": "ipython",
    "version": 3
   },
   "file_extension": ".py",
   "mimetype": "text/x-python",
   "name": "python",
   "nbconvert_exporter": "python",
   "pygments_lexer": "ipython3",
   "version": "3.11.7"
  }
 },
 "nbformat": 4,
 "nbformat_minor": 2
}
